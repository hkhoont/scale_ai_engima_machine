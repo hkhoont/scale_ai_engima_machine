{
  "nbformat": 4,
  "nbformat_minor": 0,
  "metadata": {
    "colab": {
      "name": "main_file.ipynb",
      "provenance": [],
      "collapsed_sections": []
    },
    "kernelspec": {
      "name": "python3",
      "display_name": "Python 3"
    },
    "accelerator": "TPU"
  },
  "cells": [
    {
      "cell_type": "code",
      "metadata": {
        "id": "eNmIHJ3MsjMp",
        "colab_type": "code",
        "colab": {}
      },
      "source": [
        "#########################################################\n",
        "# Decryption of Enigma coded strings\n",
        "#########################################################\n",
        "\n",
        "# -----------------------------------------------------------\n",
        "# Part of coding challenge for Scale AI ML Role\n",
        "# Github link: https://github.com/hkhoont/scale_ai_engima_machine\n",
        "# email: hsk2147@columbia.edu\n",
        "# -----------------------------------------------------------"
      ],
      "execution_count": 0,
      "outputs": []
    },
    {
      "cell_type": "code",
      "metadata": {
        "id": "_9nfWmZ8KTqr",
        "colab_type": "code",
        "outputId": "0f93bfcd-a04b-476a-d691-af48b1e16e7f",
        "colab": {
          "base_uri": "https://localhost:8080/",
          "height": 34
        }
      },
      "source": [
        "# Mounting the drive of User testing this script\n",
        "from google.colab import drive\n",
        "drive.mount('/content/drive')\n",
        "root='/content/drive/My Drive/Applications/# Scale AI/runs/'"
      ],
      "execution_count": 48,
      "outputs": [
        {
          "output_type": "stream",
          "text": [
            "Drive already mounted at /content/drive; to attempt to forcibly remount, call drive.mount(\"/content/drive\", force_remount=True).\n"
          ],
          "name": "stdout"
        }
      ]
    },
    {
      "cell_type": "markdown",
      "metadata": {
        "id": "5sPnmX1K8BoF",
        "colab_type": "text"
      },
      "source": [
        "## A - Installing  and importing libraries"
      ]
    },
    {
      "cell_type": "code",
      "metadata": {
        "id": "s8amUMvWrGKi",
        "colab_type": "code",
        "outputId": "41ae335b-e0a6-4e56-b02f-7a4897ccab1a",
        "colab": {
          "base_uri": "https://localhost:8080/",
          "height": 901
        }
      },
      "source": [
        "!pip install py-enigma\n",
        "!pip install faker\n",
        "!pip install tensorboardX==1.4\n",
        "!pip install tqdm\n",
        "!pip install hide_code\n"
      ],
      "execution_count": 49,
      "outputs": [
        {
          "output_type": "stream",
          "text": [
            "Requirement already satisfied: py-enigma in /usr/local/lib/python3.6/dist-packages (0.1)\n",
            "Requirement already satisfied: faker in /usr/local/lib/python3.6/dist-packages (3.0.0)\n",
            "Requirement already satisfied: six>=1.10 in /usr/local/lib/python3.6/dist-packages (from faker) (1.12.0)\n",
            "Requirement already satisfied: python-dateutil>=2.4 in /usr/local/lib/python3.6/dist-packages (from faker) (2.6.1)\n",
            "Requirement already satisfied: text-unidecode==1.3 in /usr/local/lib/python3.6/dist-packages (from faker) (1.3)\n",
            "Requirement already satisfied: tensorboardX==1.4 in /usr/local/lib/python3.6/dist-packages (1.4)\n",
            "Requirement already satisfied: numpy in /usr/local/lib/python3.6/dist-packages (from tensorboardX==1.4) (1.17.5)\n",
            "Requirement already satisfied: six in /usr/local/lib/python3.6/dist-packages (from tensorboardX==1.4) (1.12.0)\n",
            "Requirement already satisfied: protobuf>=3.2.0 in /usr/local/lib/python3.6/dist-packages (from tensorboardX==1.4) (3.10.0)\n",
            "Requirement already satisfied: setuptools in /usr/local/lib/python3.6/dist-packages (from protobuf>=3.2.0->tensorboardX==1.4) (42.0.2)\n",
            "Requirement already satisfied: tqdm in /usr/local/lib/python3.6/dist-packages (4.28.1)\n",
            "Requirement already satisfied: hide_code in /usr/local/lib/python3.6/dist-packages (0.5.2)\n",
            "Requirement already satisfied: jupyter in /usr/local/lib/python3.6/dist-packages (from hide_code) (1.0.0)\n",
            "Requirement already satisfied: pdfkit in /usr/local/lib/python3.6/dist-packages (from hide_code) (0.6.1)\n",
            "Requirement already satisfied: nbconvert>=5.0 in /usr/local/lib/python3.6/dist-packages (from hide_code) (5.6.1)\n",
            "Requirement already satisfied: notebook>=5.1 in /usr/local/lib/python3.6/dist-packages (from hide_code) (5.2.2)\n",
            "Requirement already satisfied: jupyter-console in /usr/local/lib/python3.6/dist-packages (from jupyter->hide_code) (5.2.0)\n",
            "Requirement already satisfied: qtconsole in /usr/local/lib/python3.6/dist-packages (from jupyter->hide_code) (4.6.0)\n",
            "Requirement already satisfied: ipykernel in /usr/local/lib/python3.6/dist-packages (from jupyter->hide_code) (4.6.1)\n",
            "Requirement already satisfied: ipywidgets in /usr/local/lib/python3.6/dist-packages (from jupyter->hide_code) (7.5.1)\n",
            "Requirement already satisfied: jinja2>=2.4 in /usr/local/lib/python3.6/dist-packages (from nbconvert>=5.0->hide_code) (2.10.3)\n",
            "Requirement already satisfied: nbformat>=4.4 in /usr/local/lib/python3.6/dist-packages (from nbconvert>=5.0->hide_code) (5.0.3)\n",
            "Requirement already satisfied: testpath in /usr/local/lib/python3.6/dist-packages (from nbconvert>=5.0->hide_code) (0.4.4)\n",
            "Requirement already satisfied: mistune<2,>=0.8.1 in /usr/local/lib/python3.6/dist-packages (from nbconvert>=5.0->hide_code) (0.8.4)\n",
            "Requirement already satisfied: jupyter-core in /usr/local/lib/python3.6/dist-packages (from nbconvert>=5.0->hide_code) (4.6.1)\n",
            "Requirement already satisfied: pygments in /usr/local/lib/python3.6/dist-packages (from nbconvert>=5.0->hide_code) (2.1.3)\n",
            "Requirement already satisfied: pandocfilters>=1.4.1 in /usr/local/lib/python3.6/dist-packages (from nbconvert>=5.0->hide_code) (1.4.2)\n",
            "Requirement already satisfied: entrypoints>=0.2.2 in /usr/local/lib/python3.6/dist-packages (from nbconvert>=5.0->hide_code) (0.3)\n",
            "Requirement already satisfied: traitlets>=4.2 in /usr/local/lib/python3.6/dist-packages (from nbconvert>=5.0->hide_code) (4.3.3)\n",
            "Requirement already satisfied: bleach in /usr/local/lib/python3.6/dist-packages (from nbconvert>=5.0->hide_code) (3.1.0)\n",
            "Requirement already satisfied: defusedxml in /usr/local/lib/python3.6/dist-packages (from nbconvert>=5.0->hide_code) (0.6.0)\n",
            "Requirement already satisfied: tornado>=4 in /usr/local/lib/python3.6/dist-packages (from notebook>=5.1->hide_code) (4.5.3)\n",
            "Requirement already satisfied: jupyter-client in /usr/local/lib/python3.6/dist-packages (from notebook>=5.1->hide_code) (5.3.4)\n",
            "Requirement already satisfied: ipython-genutils in /usr/local/lib/python3.6/dist-packages (from notebook>=5.1->hide_code) (0.2.0)\n",
            "Requirement already satisfied: terminado>=0.3.3; sys_platform != \"win32\" in /usr/local/lib/python3.6/dist-packages (from notebook>=5.1->hide_code) (0.8.3)\n",
            "Requirement already satisfied: ipython in /usr/local/lib/python3.6/dist-packages (from jupyter-console->jupyter->hide_code) (5.5.0)\n",
            "Requirement already satisfied: prompt-toolkit<2.0.0,>=1.0.0 in /usr/local/lib/python3.6/dist-packages (from jupyter-console->jupyter->hide_code) (1.0.18)\n",
            "Requirement already satisfied: widgetsnbextension~=3.5.0 in /usr/local/lib/python3.6/dist-packages (from ipywidgets->jupyter->hide_code) (3.5.1)\n",
            "Requirement already satisfied: MarkupSafe>=0.23 in /usr/local/lib/python3.6/dist-packages (from jinja2>=2.4->nbconvert>=5.0->hide_code) (1.1.1)\n",
            "Requirement already satisfied: jsonschema!=2.5.0,>=2.4 in /usr/local/lib/python3.6/dist-packages (from nbformat>=4.4->nbconvert>=5.0->hide_code) (2.6.0)\n",
            "Requirement already satisfied: decorator in /usr/local/lib/python3.6/dist-packages (from traitlets>=4.2->nbconvert>=5.0->hide_code) (4.4.1)\n",
            "Requirement already satisfied: six in /usr/local/lib/python3.6/dist-packages (from traitlets>=4.2->nbconvert>=5.0->hide_code) (1.12.0)\n",
            "Requirement already satisfied: webencodings in /usr/local/lib/python3.6/dist-packages (from bleach->nbconvert>=5.0->hide_code) (0.5.1)\n",
            "Requirement already satisfied: python-dateutil>=2.1 in /usr/local/lib/python3.6/dist-packages (from jupyter-client->notebook>=5.1->hide_code) (2.6.1)\n",
            "Requirement already satisfied: pyzmq>=13 in /usr/local/lib/python3.6/dist-packages (from jupyter-client->notebook>=5.1->hide_code) (17.0.0)\n",
            "Requirement already satisfied: ptyprocess; os_name != \"nt\" in /usr/local/lib/python3.6/dist-packages (from terminado>=0.3.3; sys_platform != \"win32\"->notebook>=5.1->hide_code) (0.6.0)\n",
            "Requirement already satisfied: simplegeneric>0.8 in /usr/local/lib/python3.6/dist-packages (from ipython->jupyter-console->jupyter->hide_code) (0.8.1)\n",
            "Requirement already satisfied: setuptools>=18.5 in /usr/local/lib/python3.6/dist-packages (from ipython->jupyter-console->jupyter->hide_code) (42.0.2)\n",
            "Requirement already satisfied: pexpect; sys_platform != \"win32\" in /usr/local/lib/python3.6/dist-packages (from ipython->jupyter-console->jupyter->hide_code) (4.7.0)\n",
            "Requirement already satisfied: pickleshare in /usr/local/lib/python3.6/dist-packages (from ipython->jupyter-console->jupyter->hide_code) (0.7.5)\n",
            "Requirement already satisfied: wcwidth in /usr/local/lib/python3.6/dist-packages (from prompt-toolkit<2.0.0,>=1.0.0->jupyter-console->jupyter->hide_code) (0.1.8)\n"
          ],
          "name": "stdout"
        }
      ]
    },
    {
      "cell_type": "code",
      "metadata": {
        "id": "IQFm1qb_rOE9",
        "colab_type": "code",
        "colab": {}
      },
      "source": [
        "import warnings\n",
        "warnings.filterwarnings(\"ignore\")\n",
        "\n",
        "from typing import List, Tuple\n",
        "from enigma.machine import EnigmaMachine\n",
        "from faker import Faker\n",
        "import re\n",
        "import numpy as np\n",
        "import string\n",
        "import random\n",
        "import time\n",
        "import math\n",
        "import torch\n",
        "from torch.autograd import Variable\n",
        "import torch.nn as nn\n",
        "from torch.nn import functional as F\n",
        "import collections\n",
        "from tqdm import tqdm\n",
        "from tqdm import trange, tqdm\n",
        "from time import sleep"
      ],
      "execution_count": 0,
      "outputs": []
    },
    {
      "cell_type": "markdown",
      "metadata": {
        "id": "AhLDj9SY8MM6",
        "colab_type": "text"
      },
      "source": [
        "## B - Helper functions already provided"
      ]
    },
    {
      "cell_type": "code",
      "metadata": {
        "id": "TFnkSrI3rIRe",
        "colab_type": "code",
        "colab": {}
      },
      "source": [
        "class ConfiguredMachine:\n",
        "    def __init__(self):\n",
        "        self.machine = EnigmaMachine.from_key_sheet(\n",
        "            rotors='II IV V',\n",
        "            reflector='B',\n",
        "            ring_settings=[1, 20, 11],\n",
        "            plugboard_settings='AV BS CG DL FU HZ IN KM OW RX')\n",
        "\n",
        "    def reset(self):\n",
        "        self.machine.set_display('WXC')\n",
        "\n",
        "    def encode(self, plain_str: str) -> str:\n",
        "        self.reset()\n",
        "        return self.machine.process_text(plain_str)\n",
        "\n",
        "    def batch_encode(self, plain_list: List[str]) -> List[str]:\n",
        "        encoded = list()\n",
        "        for s in plain_list:\n",
        "            encoded.append(self.encode(s))\n",
        "        return encoded"
      ],
      "execution_count": 0,
      "outputs": []
    },
    {
      "cell_type": "code",
      "metadata": {
        "id": "GLzwW54crLAe",
        "colab_type": "code",
        "colab": {}
      },
      "source": [
        "def pre_process(input_str):\n",
        "    return re.sub('[^a-zA-Z]', '', input_str).upper()\n",
        "\n",
        "\n",
        "def generate_data(batch_size: int, seq_len: int = 42) -> Tuple[List[str], List[str]]:\n",
        "    fake = Faker()\n",
        "    machine = ConfiguredMachine()\n",
        "\n",
        "    plain_list = fake.texts(nb_texts=batch_size, max_nb_chars=seq_len)\n",
        "    plain_list = [pre_process(p) for p in plain_list]\n",
        "    cipher_list = machine.batch_encode(plain_list)\n",
        "    return plain_list, cipher_list\n",
        "\n",
        "\n",
        "def predict(cipher_list: List[str]) -> List[str]:\n",
        "    \"\"\"\n",
        "    Solution\n",
        "    Input: Plain string with length <42\n",
        "    Output: Decryption of the string according to Enigma machine(as configured above). Size of decryption should be same as input string\n",
        "    \"\"\"\n",
        "    return cipher_list\n",
        "\n",
        "\n",
        "def str_score(str_a: str, str_b: str) -> float:\n",
        "    if len(str_a) != len(str_b):\n",
        "        return 0\n",
        "    n_correct = 0\n",
        "    for a, b in zip(str_a, str_b):\n",
        "        n_correct += int(a == b)\n",
        "    return n_correct / len(str_a)\n",
        "\n",
        "def score(predicted_plain: List[str], correct_plain: List[str]) -> float:\n",
        "    correct = 0\n",
        "    for p, c in zip(predicted_plain, correct_plain):\n",
        "        if str_score(p, c) > 0.8:\n",
        "            correct += 1\n",
        "    return correct / len(correct_plain)"
      ],
      "execution_count": 0,
      "outputs": []
    },
    {
      "cell_type": "markdown",
      "metadata": {
        "id": "aB4bXnRi1ZqK",
        "colab_type": "text"
      },
      "source": [
        "## C - Data Exploration"
      ]
    },
    {
      "cell_type": "code",
      "metadata": {
        "id": "y8VxOEqdrxhw",
        "colab_type": "code",
        "colab": {}
      },
      "source": [
        "plain, cipher = generate_data(32)"
      ],
      "execution_count": 0,
      "outputs": []
    },
    {
      "cell_type": "code",
      "metadata": {
        "id": "GXfdyJb1zVG_",
        "colab_type": "code",
        "outputId": "860d417d-5161-4194-fef1-f5464d557116",
        "colab": {
          "base_uri": "https://localhost:8080/",
          "height": 104
        }
      },
      "source": [
        "plain[:5]"
      ],
      "execution_count": 54,
      "outputs": [
        {
          "output_type": "execute_result",
          "data": {
            "text/plain": [
              "['WINGUNNORTHTREATENOUGHKID',\n",
              " 'SYSTEMSORTKEEPLOSEDRAWCHALLENGE',\n",
              " 'BEHINDTHEYTHOUGHGOOD',\n",
              " 'BAGDOFOURMARKETNEWSLOCALEAST',\n",
              " 'HARDALWAYSWHENALMOSTGIRLAGENT']"
            ]
          },
          "metadata": {
            "tags": []
          },
          "execution_count": 54
        }
      ]
    },
    {
      "cell_type": "code",
      "metadata": {
        "id": "WhmGE0VIzZSH",
        "colab_type": "code",
        "outputId": "31d37f1a-d92e-43a5-fb7f-6bf993d0d69f",
        "colab": {
          "base_uri": "https://localhost:8080/",
          "height": 104
        }
      },
      "source": [
        "cipher[:5]"
      ],
      "execution_count": 55,
      "outputs": [
        {
          "output_type": "execute_result",
          "data": {
            "text/plain": [
              "['IFPFBKYHZOZPMOKCUANMXPUGM',\n",
              " 'UKLOCPDHZOAOBMHALLASHMSXUDHHMAN',\n",
              " 'KAAAYGVOCMEMQTYVQKNP',\n",
              " 'KEYCTSAJZYKBWOXYUDMQTIJAIJYK',\n",
              " 'GEXCLUEPTNGMBQKFOKMHXCPAUPGVQ']"
            ]
          },
          "metadata": {
            "tags": []
          },
          "execution_count": 55
        }
      ]
    },
    {
      "cell_type": "markdown",
      "metadata": {
        "id": "bf1yPloRp3Qi",
        "colab_type": "text"
      },
      "source": [
        "- The decryption of the first letter remains same for a particular varibale.\n",
        "- Therefore, there is no need to learn the key for the message becuase the Enigma machine is already set to a particular configuration\n",
        "- The data generated does not need any data cleaning and pre-preocessing since it is perfect simulated data"
      ]
    },
    {
      "cell_type": "markdown",
      "metadata": {
        "id": "4P-m3m5c1qMB",
        "colab_type": "text"
      },
      "source": [
        "## D - Data vectorizing"
      ]
    },
    {
      "cell_type": "code",
      "metadata": {
        "id": "Y6yc4Xl8twF-",
        "colab_type": "code",
        "colab": {}
      },
      "source": [
        "all_characters = \"#ABCDEFGHIJKLMNOPQRSTUVWXYZ\"\n",
        "vocab = {}\n",
        "for i,char in enumerate(all_characters):\n",
        "    vocab[i]=char\n",
        "\n",
        "n_characters = len(all_characters)"
      ],
      "execution_count": 0,
      "outputs": []
    },
    {
      "cell_type": "markdown",
      "metadata": {
        "id": "8acAVWMw7zW4",
        "colab_type": "text"
      },
      "source": [
        "### D.1 Turning a string into a tensor"
      ]
    },
    {
      "cell_type": "code",
      "metadata": {
        "id": "wSA1MEK67ndI",
        "colab_type": "code",
        "colab": {}
      },
      "source": [
        "# Turning a string into a tensor\n",
        "def string_to_tensor(string):\n",
        "    \"\"\"\n",
        "    Convert string into numerical torch tensor filled with index according to above mentioned 'all_characters' variable\n",
        "    Input: String of capital letters to be dencrypted \n",
        "    Output: Torch tensor(torch.size(42)) \n",
        "    \"\"\"\n",
        "    tensor = torch.zeros(42).long()\n",
        "    for c in range(len(string)):\n",
        "        try:\n",
        "            tensor[c] = all_characters.index(string[c])\n",
        "        except:\n",
        "            continue\n",
        "    return tensor"
      ],
      "execution_count": 0,
      "outputs": []
    },
    {
      "cell_type": "code",
      "metadata": {
        "id": "KGMRfCxS7p5v",
        "colab_type": "code",
        "colab": {}
      },
      "source": [
        "# Readable time elapsed\n",
        "def time_since(since):\n",
        "    s = time.time() - since\n",
        "    m = math.floor(s / 60)\n",
        "    s -= m * 60\n",
        "    return '%dm %ds' % (m, s)"
      ],
      "execution_count": 0,
      "outputs": []
    },
    {
      "cell_type": "code",
      "metadata": {
        "id": "IYJ3Am6f7qAm",
        "colab_type": "code",
        "colab": {}
      },
      "source": [
        "def batch_tensor(batch_size):\n",
        "    \"\"\"\n",
        "    This the main generater function\n",
        "    Input: Batch_size (generally 2^n)\n",
        "    Output 1: Tensor of text batch padded with zero: Size=torch.size(batch_size,42)\n",
        "    Output 2: Tensor of decryption of same batch padded with zero: Size=torch.size(batch_size,42)\n",
        "    Output 3: Tensor of string sizes: Size=torch.size(batch_size)\n",
        "    Output 4: List of Strings: len(plain)=batch_size\n",
        "    \"\"\"\n",
        "    plain, cipher = generate_data(batch_size)                                   #Generates random strings and its decryption\n",
        "    x_length = []\n",
        "    for i in plain:\n",
        "        x_length.append(len(i))\n",
        "    string_length = 42\n",
        "    x = torch.LongTensor(batch_size, string_length)\n",
        "    y = torch.LongTensor(batch_size, string_length)\n",
        "\n",
        "    for i in range(batch_size):\n",
        "        y[i] = string_to_tensor(plain[i])\n",
        "        x[i] = string_to_tensor(cipher[i])\n",
        "    x = Variable(x)\n",
        "    y = Variable(y)\n",
        "    return x.long(),y.long(),torch.FloatTensor(x_length),plain"
      ],
      "execution_count": 0,
      "outputs": []
    },
    {
      "cell_type": "markdown",
      "metadata": {
        "id": "cXRMjtQjOiTZ",
        "colab_type": "text"
      },
      "source": [
        "## E - Model Building"
      ]
    },
    {
      "cell_type": "markdown",
      "metadata": {
        "id": "QAu1fGX99VsN",
        "colab_type": "text"
      },
      "source": [
        "- We will try to model this problem character by character prediction\n",
        "- Since the decryption of a particular character depends on the previous character and its decryption. \n",
        "- Such a situation is ideally modeled using sequence to sequence neural networks\n",
        "- These networks range from deep RNN, GRU, LSTM to deep attention based Encoder-Decoder models\n",
        "- Attention-based networks have been proved to a lot better than other encoder-decoder networks\n",
        "- These networks are capable of capturing complex sequential patterns where the next symbol is partially determined by events that happened many time steps in the past."
      ]
    },
    {
      "cell_type": "markdown",
      "metadata": {
        "id": "_wrWKdtOBtx7",
        "colab_type": "text"
      },
      "source": [
        "## F - Model Architecture\n",
        "- The following are the criteria used to pick the best network: \n",
        "    - Engima decryption is highly dependent if you can learn the key formating in the machine. \n",
        "    - These keys are distributed in advance, which gives the initial configuration of the machine to decrypt the message\n",
        "    - Key list here is pre-defined in the `config` function\n",
        "- But with a constraint on ***Number of parameters<60K (Capacity of the network)***, \n",
        "    - Stacked LSTM is a good choice \n",
        "    - First, considering the learned key format in latent variables would be used throughout the decryption of the string\n",
        "    - Second, LSTM handles vanishing gradient problem much better than similar networks RNN and GRU units"
      ]
    },
    {
      "cell_type": "code",
      "metadata": {
        "id": "vz4Jw16CZg5O",
        "colab_type": "code",
        "colab": {}
      },
      "source": [
        "class CharLSTM(nn.Module):\n",
        "    def __init__(self, input_size, hidden_size,output_size, n_layers):\n",
        "        super(CharLSTM, self).__init__()\n",
        "\n",
        "        self.input_size = input_size\n",
        "        self.hidden_size = hidden_size\n",
        "        self.output_size = output_size\n",
        "        self.n_layers = n_layers\n",
        "\n",
        "        padding_idx = 0\n",
        "\n",
        "        # Encoder embedding layer is used to convert batch text in one-hot encode form\n",
        "        # Since its one-hot encoded (vocal size = 27), there no need to learn the embeddings\n",
        "        self.encoder = nn.Embedding(num_embeddings=self.input_size,\n",
        "                                    embedding_dim=self.input_size,\n",
        "                                    padding_idx=padding_idx,)\n",
        "        self.encoder.weight.data = torch.eye(self.input_size)\n",
        "        self.encoder.weight.requires_grad = False\n",
        "\n",
        "        # LSTM Unit\n",
        "        self.lstm = nn.LSTM(self.input_size, \n",
        "                           hidden_size, \n",
        "                           n_layers, \n",
        "                           batch_first=True)\n",
        "        \n",
        "        #Decoder\n",
        "        self.decoder = nn.Linear(hidden_size, \n",
        "                                 output_size)\n",
        "        \n",
        "    def forward(self, x, x_length):\n",
        "\n",
        "        # print(\"Max in x_length\",max(x_length))\n",
        "        batch_size_input = x_length.shape[0]\n",
        "        self.hidden = self.init_hidden(batch_size_input)                        # Initialize the weights\n",
        "        x = self.encoder(x)                                                     # Encoder\n",
        "\n",
        "        # print(\"/CharLSTM/forward/ Size: x after encoder - \",x.shape)\n",
        "\n",
        "        #Pack Padding will ensure that forward pass is carried for only units equal to length of string \n",
        "        x = torch.nn.utils.rnn.pack_padded_sequence(x, \n",
        "                                                    x_length, \n",
        "                                                    batch_first=True,\n",
        "                                                    enforce_sorted=False)\n",
        "        \n",
        "        x, self.hidden = self.lstm(x, self.hidden)                              # Running the LSTM Unit\n",
        "        x, _ = torch.nn.utils.rnn.pad_packed_sequence(x, batch_first=True)\n",
        "\n",
        "        # print(\"/CharLSTM/forward/ Size: x after pad - \",x.shape)\n",
        "\n",
        "        x = x.contiguous()\n",
        "        x = x.view(-1, x.shape[2])\n",
        "        # print(\"/CharLSTM/forward/ Size: x after view - \",x.shape)\n",
        "        x = self.decoder(x)                                                     # Decoder\n",
        "        # print(\"/CharLSTM/forward/ Size: x after decoder - \",x.shape)\n",
        "        x = F.log_softmax(x, dim=1)\n",
        "        # x = F.softmax(x, dim=1)\n",
        "\n",
        "        Y_hat = x\n",
        "        return Y_hat\n",
        "\n",
        "\n",
        "    def init_hidden(self,batch_size_input):\n",
        "        \"\"\"\n",
        "        Initial the weights\n",
        "        Method: Random\n",
        "        \"\"\"\n",
        "        hidden_a = torch.randn(self.n_layers,batch_size_input, self.hidden_size)\n",
        "        hidden_b = torch.randn(self.n_layers,batch_size_input, self.hidden_size)\n",
        "\n",
        "        hidden_a = Variable(hidden_a)\n",
        "        hidden_b = Variable(hidden_b)\n",
        "\n",
        "        return (hidden_a, hidden_b)"
      ],
      "execution_count": 0,
      "outputs": []
    },
    {
      "cell_type": "markdown",
      "metadata": {
        "id": "9xOz4F1qJGcY",
        "colab_type": "text"
      },
      "source": [
        "## G - Cross Entropy Loss\n",
        "- Since the size of each string is different, the output prediction should be padded with zeros\n",
        "- Inbuilt cross-entropy function is not suitable here because of the difference in shapes of `Y_hat` and `Y`"
      ]
    },
    {
      "cell_type": "code",
      "metadata": {
        "id": "37HZN2wBFOuA",
        "colab_type": "code",
        "colab": {}
      },
      "source": [
        "def criterion(Y_hat, Y, X_lengths,batch_size):\n",
        "    \"\"\"\n",
        "    Custom defined Cross entropy Function (Objective function calculation)\n",
        "    Input 1: Tensor of prediction of a batch of data: Size=torch.size(batch_size,m,n_characters)\n",
        "    Input 2: Tensor of groud truth of a batch of data: Size=torch.size(batch_size,42,n_characters)\n",
        "    Input 3: Tensor of string sizes: Size=torch.size(batch_size)\n",
        "    Ouput: Single digit tensor - cross entropy loss\n",
        "    \"\"\"\n",
        "    m = int(max(X_lengths).detach())\n",
        "    Y_hat = Y_hat.view(batch_size,m,input_size)\n",
        "    # print(\"/criterion/ Size: Y_hat after view - \",Y_hat.shape)\n",
        "    # print(\"/criterion/ Check the sum of softmax==1 - \",torch.sum(Y_hat[0,0,:]))\n",
        "\n",
        "    # npad is a tuple of 2*len(n_before, n_after) for each dimension\n",
        "    Y_hat = F.pad(input=Y_hat, pad=(0, 0, 0, 42-m,0,0), mode='constant', value=0)\n",
        "    # print(\"/criterion/ Size: Y_hat after padding - \",Y_hat.shape)\n",
        "\n",
        "    one_hot_encoder = nn.Embedding(num_embeddings=input_size,\n",
        "                                embedding_dim=input_size)\n",
        "    one_hot_encoder.weight.data = torch.eye(input_size)\n",
        "    one_hot_encoder.weight.requires_grad = False\n",
        "    Y = one_hot_encoder(Y)\n",
        "    # print(\"/criterion/ Size: Y after nn.embeddings - \",Y.shape)\n",
        "\n",
        "\n",
        "    Y = Y.view(-1)\n",
        "    Y_hat = Y_hat.view(-1)\n",
        "    total_char = int(torch.sum(Y))\n",
        "    ce_loss = Y*Y_hat\n",
        "    # print(\"/criterion/ Dimension of Ce_loss\",ce_loss.shape)\n",
        "    ce_loss = -torch.sum(ce_loss) / total_char\n",
        "    return ce_loss"
      ],
      "execution_count": 0,
      "outputs": []
    },
    {
      "cell_type": "markdown",
      "metadata": {
        "id": "tC1eK6I_KCTa",
        "colab_type": "text"
      },
      "source": [
        "## H - Model function"
      ]
    },
    {
      "cell_type": "code",
      "metadata": {
        "id": "YjFmX3VRh8Sy",
        "colab_type": "code",
        "colab": {}
      },
      "source": [
        "def model(params):\n",
        "    \"\"\"\n",
        "    Builts model with given hyperparamters\n",
        "    Input: Dictionary of Hyperparamters. Here I am considering 3 hyperparameters: Number of layers, hidden size and batch size\n",
        "    Output1: LSTM model\n",
        "    Output2: Adam optimizer\n",
        "    Output3: Learning rate scheduler\n",
        "    \"\"\"\n",
        "    # Hyperparameters\n",
        "    input_size = 27\n",
        "    output_size = 27\n",
        "    n_characters=27\n",
        "    hidden_size = params['hiddensize']\n",
        "    n_layers = params['nlayers']\n",
        "    batch_size = params['batchsize']\n",
        "    learning_rate=0.01\n",
        "\n",
        "    # model\n",
        "    final_model = CharLSTM(input_size,\n",
        "                          hidden_size, \n",
        "                          output_size,\n",
        "                          n_layers)\n",
        "\n",
        "    # Adam Optimizer with learning rate scheduler\n",
        "    optimizer = torch.optim.Adam(final_model.parameters(), lr=learning_rate,betas=(0.9, 0.999), eps=1e-08, weight_decay=0, amsgrad=False)\n",
        "    scheduler = torch.optim.lr_scheduler.StepLR(optimizer, step_size=2, gamma=0.99, last_epoch=-1)\n",
        "    return final_model,optimizer,scheduler"
      ],
      "execution_count": 0,
      "outputs": []
    },
    {
      "cell_type": "markdown",
      "metadata": {
        "id": "7ajO11WkOtoA",
        "colab_type": "text"
      },
      "source": [
        "## I - Printing Model and its paramters"
      ]
    },
    {
      "cell_type": "code",
      "metadata": {
        "id": "9Jod_WhhCPiC",
        "colab_type": "code",
        "colab": {}
      },
      "source": [
        "def printing_model(model):\n",
        "    \"\"\"\n",
        "    Prints different characteristics of the LSTM Model\n",
        "    \"\"\"\n",
        "    print(\"Printing Model\")\n",
        "    print(model)\n",
        "    print('-'*160)\n",
        "    pytorch_total_params = sum(p.numel() for p in model.parameters())\n",
        "    print(\"Number of Paramters: \",pytorch_total_params)\n",
        "    print('-'*160)\n",
        "    for i in range(len(list(model.parameters()))):\n",
        "        print(list(model.parameters())[i].size())\n",
        "    print('-'*160)"
      ],
      "execution_count": 0,
      "outputs": []
    },
    {
      "cell_type": "markdown",
      "metadata": {
        "id": "miu8bbhdO0XV",
        "colab_type": "text"
      },
      "source": [
        "## J - Save computational graph for Tensorboard Visualization"
      ]
    },
    {
      "cell_type": "code",
      "metadata": {
        "id": "r_LXH6te-g-l",
        "colab_type": "code",
        "colab": {}
      },
      "source": [
        "from torch.utils.tensorboard import SummaryWriter\n",
        "def save_graph(root,model,batch_size):\n",
        "    \"\"\"\n",
        "    Saving computational graph for visualization in TensorBoard\n",
        "    \n",
        "    \"\"\"\n",
        "    \n",
        "    x1,y1,x_length1,_ = batch_tensor(batch_size)\n",
        "    writer = SummaryWriter(root)\n",
        "    writer.add_graph(model,input_to_model=(x1,x_length1),verbose=True)\n",
        "    writer.close()\n",
        "    print('-'*160)\n",
        "    return writer"
      ],
      "execution_count": 0,
      "outputs": []
    },
    {
      "cell_type": "markdown",
      "metadata": {
        "id": "w1wygtGNKLeQ",
        "colab_type": "text"
      },
      "source": [
        "## K - Functions of Score and Accuracy calcultions"
      ]
    },
    {
      "cell_type": "markdown",
      "metadata": {
        "id": "2pPX1T9JPmsB",
        "colab_type": "text"
      },
      "source": [
        "### K.1 - Accuracy at character level"
      ]
    },
    {
      "cell_type": "code",
      "metadata": {
        "id": "YMJsH4qcUUCy",
        "colab_type": "code",
        "colab": {}
      },
      "source": [
        "def string_accuracy(predicted_plain: List[str], correct_plain: List[str],x_length) -> float:\n",
        "    x_length_array = x_length.detach().numpy().astype('int') \n",
        "    correct = 0\n",
        "    for p, c in zip(predicted_plain, correct_plain):\n",
        "        for k in range(len(p)):\n",
        "            if p[k]==c[k]:\n",
        "                correct = correct +1\n",
        "    return correct / sum(x_length_array)"
      ],
      "execution_count": 0,
      "outputs": []
    },
    {
      "cell_type": "markdown",
      "metadata": {
        "id": "GVAZ99O6PtpH",
        "colab_type": "text"
      },
      "source": [
        "### K.2 - Converts one-hot prediction output to Strings"
      ]
    },
    {
      "cell_type": "code",
      "metadata": {
        "id": "XSW-MUByUUK7",
        "colab_type": "code",
        "colab": {}
      },
      "source": [
        "import numpy as np\n",
        "def numerical_string(batch_size,y_pred,y_batch_string,x_length):\n",
        "    x_length_array = x_length.detach().numpy().astype('int') \n",
        "    m = max(x_length_array)\n",
        "    y_pred = y_pred.view(batch_size,m,input_size)\n",
        "    n_y_pred = []\n",
        "\n",
        "    for k in range(batch_size):\n",
        "        string_pred = \"\" \n",
        "        for i in range(x_length_array[k]):\n",
        "            string_pred = string_pred+vocab[np.argmax(y_pred[k][i].detach().numpy())]\n",
        "\n",
        "        n_y_pred.append(string_pred)\n",
        "\n",
        "    return n_y_pred,y_batch_string"
      ],
      "execution_count": 0,
      "outputs": []
    },
    {
      "cell_type": "markdown",
      "metadata": {
        "id": "Iy10E-cXQAe9",
        "colab_type": "text"
      },
      "source": [
        "## L - Training function"
      ]
    },
    {
      "cell_type": "code",
      "metadata": {
        "id": "faiNbYqDFjRX",
        "colab_type": "code",
        "colab": {}
      },
      "source": [
        "def train(final_model, Iteration, batch_size,loss_fn, optimizer,writer_comment):\n",
        "    iter = 0\n",
        "    overall_accuracy = 0\n",
        "    char_accuracy = 0\n",
        "    running_metric = collections.deque(16*[2], 16)\n",
        "    running_character_accuracy = collections.deque(8*[0], 8)\n",
        "    for iter in range(Iteration):\n",
        "\n",
        "        x,y,x_length,plain = batch_tensor(batch_size)\n",
        "\n",
        "        Y_hat = final_model(x,x_length)\n",
        "\n",
        "        # print(\"/train/ Shape: Y_hat - \",Y_hat.shape)\n",
        "        # print(/train/ Shape: y\",y.shape)\n",
        "        final_model.zero_grad()\n",
        "        loss = loss_fn(Y_hat, y, x_length,batch_size)\n",
        "        batch_accuracy = score(*numerical_string(batch_size,Y_hat,plain,x_length))\n",
        "        loss.backward()\n",
        "        optimizer.step()\n",
        "        batch_accuracy = score(*numerical_string(batch_size,Y_hat,plain,x_length))\n",
        "        char_accuracy = (char_accuracy*iter+string_accuracy(*numerical_string(batch_size,Y_hat,plain,x_length),x_length))/(iter+1)\n",
        "\n",
        "        overall_accuracy = (overall_accuracy*iter+batch_accuracy)/(iter+1)\n",
        "\n",
        "        if iter % 20 == 0:\n",
        "  \n",
        "            test_x,test_y,test_x_length,test_plain = batch_tensor(batch_size)\n",
        "            y_hat_test = final_model(test_x,test_x_length)\n",
        "            loss_test = loss_fn(y_hat_test, test_y, test_x_length,batch_size)\n",
        "\n",
        "            batch_accuracy = score(*numerical_string(batch_size,Y_hat,plain,x_length))\n",
        "            batch_accuracy_test = score(*numerical_string(batch_size,y_hat_test,test_plain,test_x_length))\n",
        "\n",
        "\n",
        "            char_accuracy_test = string_accuracy(*numerical_string(batch_size,y_hat_test,test_plain,test_x_length),test_x_length)\n",
        "\n",
        "            writer.add_scalars(writer_comment+' Running Cross Entropy loss',\n",
        "                              {\n",
        "                                  \"Training\":loss,\n",
        "                                  \"Test\":loss_test\n",
        "                              },\n",
        "                              iter)\n",
        "            running_metric.append(loss)\n",
        "            running_metric.append(loss_test)\n",
        "            writer.add_scalars(writer_comment+' Running Batch Accuracy',\n",
        "                              {\n",
        "                                  \"Training\":batch_accuracy,\n",
        "                                  \"Test\":batch_accuracy_test\n",
        "                              },\n",
        "                              iter)\n",
        "            \n",
        "            writer.add_scalars(writer_comment+' Character Accuracy',\n",
        "                              {\n",
        "                                  \"Training\":char_accuracy,\n",
        "                                  \"Test\":char_accuracy_test\n",
        "                              },\n",
        "                              iter)\n",
        "            running_character_accuracy.append(char_accuracy_test)\n",
        "            writer.add_scalar(writer_comment+' Overall Accuracy',\n",
        "                              overall_accuracy,\n",
        "                              iter)\n",
        "\n",
        "\n",
        "            # Print Loss\n",
        "            print('Iteration:{:>4} || Cross Entropy loss- Train: {:04.3f} Test: {:04.3f} || Batch Score- Train: {:5.1f}% Test: {:5.1f}% || Cumulative Score {:5.1f}% || Character_accuracy - Train(cumulative): {:5.1f}%   Test: {:5.1f}% '.format(iter, loss,loss_test,batch_accuracy*100.0,batch_accuracy_test*100.0,overall_accuracy*100.0,char_accuracy*100.0,char_accuracy_test*100.0))\n",
        "        \n",
        "            if sum(running_metric) / len(running_metric)<0.09:\n",
        "                print('-'*160)\n",
        "                print(\"Stopping Condition Achieved: Average of Last 16 (2*8) Cross entropy Loss is less than 0.09: \",sum(running_metric) / len(running_metric))\n",
        "                print('-'*160)\n",
        "                return sum(running_character_accuracy) / len(running_character_accuracy)\n",
        "\n",
        "            if sum(running_metric) / len(running_metric)>1.3 and iter>1000:\n",
        "                print('-'*160)\n",
        "                print(\"The model with current paramters is not converging in first 1000 iterations: \",sum(running_metric) / len(running_metric))\n",
        "                print('-'*160)\n",
        "                return sum(running_character_accuracy) / len(running_character_accuracy)\n",
        "\n",
        "            if sum(running_metric) / len(running_metric)>0.5 and iter>2000:\n",
        "                print('-'*160)\n",
        "                print(\"The model with current paramters is not converging in first 2000 iterations: \",sum(running_metric) / len(running_metric))\n",
        "                print('-'*160)\n",
        "                return sum(running_character_accuracy) / len(running_character_accuracy)\n",
        "\n",
        "            if iter>4400 or iter==(Iteration-1):\n",
        "                print('-'*160)\n",
        "                print(\"The model with current paramters is not converging: \",sum(running_metric) / len(running_metric))\n",
        "                print('-'*160)\n",
        "                return sum(running_character_accuracy) / len(running_character_accuracy)\n",
        "        if iter%50==0:\n",
        "            scheduler.step()\n",
        "\n",
        "        time.sleep(0.1)"
      ],
      "execution_count": 0,
      "outputs": []
    },
    {
      "cell_type": "markdown",
      "metadata": {
        "id": "1_GvNcsfQHfP",
        "colab_type": "text"
      },
      "source": [
        "## M - Actual model training for a set of paramters and Backpropogation through time"
      ]
    },
    {
      "cell_type": "markdown",
      "metadata": {
        "id": "wHgdZMPOU4PL",
        "colab_type": "text"
      },
      "source": [
        "### M.1 Model variables"
      ]
    },
    {
      "cell_type": "code",
      "metadata": {
        "id": "8VXeHP7YUr8Z",
        "colab_type": "code",
        "colab": {}
      },
      "source": [
        "param_dict={  \n",
        "        'hiddensize':64,\n",
        "        'nlayers':2,\n",
        "        'batchsize':32,\n",
        "}\n",
        "input_size = 27\n",
        "output_size = 27\n",
        "n_characters=27\n",
        "hidden_size = param_dict['hiddensize']\n",
        "n_layers = param_dict['nlayers']\n",
        "batch_size = param_dict['batchsize']\n",
        "learning_rate=0.01\n",
        "comment ='layers'+str(n_layers)+'_hiddensize'+str(hidden_size)+'_batchsize'+str(batch_size)\n",
        "path = root+comment+'_saved_model.pth'"
      ],
      "execution_count": 0,
      "outputs": []
    },
    {
      "cell_type": "markdown",
      "metadata": {
        "id": "8xQIG35hU9Rq",
        "colab_type": "text"
      },
      "source": [
        "### M.2 Model Training"
      ]
    },
    {
      "cell_type": "code",
      "metadata": {
        "id": "AP6nVrK_uGsU",
        "colab_type": "code",
        "outputId": "9bcf7aba-74e1-451e-ad6d-94188ac4667c",
        "colab": {
          "base_uri": "https://localhost:8080/",
          "height": 1000
        }
      },
      "source": [
        "final_model,optimizer,scheduler = model(param_dict)\n",
        "\n",
        "printing_model(final_model)\n",
        "\n",
        "writer = save_graph(root,final_model,batch_size)\n",
        "\n",
        "\n",
        "character_acc = train(final_model, 5000, batch_size,criterion, optimizer,comment)\n",
        "print(character_acc)\n",
        "torch.save(final_model, path)"
      ],
      "execution_count": 69,
      "outputs": [
        {
          "output_type": "stream",
          "text": [
            "Printing Model\n",
            "CharLSTM(\n",
            "  (encoder): Embedding(27, 27, padding_idx=0)\n",
            "  (lstm): LSTM(27, 64, num_layers=2, batch_first=True)\n",
            "  (decoder): Linear(in_features=64, out_features=27, bias=True)\n",
            ")\n",
            "----------------------------------------------------------------------------------------------------------------------------------------------------------------\n",
            "Number of Paramters:  59572\n",
            "----------------------------------------------------------------------------------------------------------------------------------------------------------------\n",
            "torch.Size([27, 27])\n",
            "torch.Size([256, 27])\n",
            "torch.Size([256, 64])\n",
            "torch.Size([256])\n",
            "torch.Size([256])\n",
            "torch.Size([256, 64])\n",
            "torch.Size([256, 64])\n",
            "torch.Size([256])\n",
            "torch.Size([256])\n",
            "torch.Size([27, 64])\n",
            "torch.Size([27])\n",
            "----------------------------------------------------------------------------------------------------------------------------------------------------------------\n",
            "graph(%self : ClassType<CharLSTM>,\n",
            "      %input.1 : Long(32, 42),\n",
            "      %x_length : Float(32)):\n",
            "  %1 : ClassType<Embedding> = prim::GetAttr[name=\"encoder\"](%self)\n",
            "  %weight.1 : Tensor = prim::GetAttr[name=\"weight\"](%1)\n",
            "  %3 : ClassType<LSTM> = prim::GetAttr[name=\"lstm\"](%self)\n",
            "  %4 : Tensor = prim::GetAttr[name=\"bias_hh_l0\"](%3)\n",
            "  %5 : Tensor = prim::GetAttr[name=\"bias_hh_l1\"](%3)\n",
            "  %6 : Tensor = prim::GetAttr[name=\"bias_ih_l0\"](%3)\n",
            "  %7 : Tensor = prim::GetAttr[name=\"bias_ih_l1\"](%3)\n",
            "  %8 : Tensor = prim::GetAttr[name=\"weight_hh_l0\"](%3)\n",
            "  %9 : Tensor = prim::GetAttr[name=\"weight_hh_l1\"](%3)\n",
            "  %10 : Tensor = prim::GetAttr[name=\"weight_ih_l0\"](%3)\n",
            "  %11 : Tensor = prim::GetAttr[name=\"weight_ih_l1\"](%3)\n",
            "  %12 : ClassType<Linear> = prim::GetAttr[name=\"decoder\"](%self)\n",
            "  %weight : Tensor = prim::GetAttr[name=\"weight\"](%12)\n",
            "  %bias : Tensor = prim::GetAttr[name=\"bias\"](%12)\n",
            "  %17 : int = prim::Constant[value=0](), scope: CharLSTM # <ipython-input-60-cdf22d77fd80>:33:0\n",
            "  %18 : int = aten::size(%x_length, %17), scope: CharLSTM # <ipython-input-60-cdf22d77fd80>:33:0\n",
            "  %batch_size_input : Long() = prim::NumToTensor(%18), scope: CharLSTM\n",
            "  %29 : int = aten::Int(%batch_size_input), scope: CharLSTM\n",
            "  %20 : int = aten::Int(%batch_size_input), scope: CharLSTM\n",
            "  %21 : int = prim::Constant[value=2](), scope: CharLSTM # <ipython-input-60-cdf22d77fd80>:67:0\n",
            "  %22 : int = prim::Constant[value=64](), scope: CharLSTM # <ipython-input-60-cdf22d77fd80>:67:0\n",
            "  %23 : int[] = prim::ListConstruct(%21, %20, %22), scope: CharLSTM\n",
            "  %24 : int = prim::Constant[value=6](), scope: CharLSTM # <ipython-input-60-cdf22d77fd80>:67:0\n",
            "  %25 : int = prim::Constant[value=0](), scope: CharLSTM # <ipython-input-60-cdf22d77fd80>:67:0\n",
            "  %26 : Device = prim::Constant[value=\"cpu\"](), scope: CharLSTM # <ipython-input-60-cdf22d77fd80>:67:0\n",
            "  %27 : bool = prim::Constant[value=0](), scope: CharLSTM # <ipython-input-60-cdf22d77fd80>:67:0\n",
            "  %hidden_a : Float(2, 32, 64) = aten::randn(%23, %24, %25, %26, %27), scope: CharLSTM # <ipython-input-60-cdf22d77fd80>:67:0\n",
            "  %30 : int = prim::Constant[value=2](), scope: CharLSTM # <ipython-input-60-cdf22d77fd80>:68:0\n",
            "  %31 : int = prim::Constant[value=64](), scope: CharLSTM # <ipython-input-60-cdf22d77fd80>:68:0\n",
            "  %32 : int[] = prim::ListConstruct(%30, %29, %31), scope: CharLSTM\n",
            "  %33 : int = prim::Constant[value=6](), scope: CharLSTM # <ipython-input-60-cdf22d77fd80>:68:0\n",
            "  %34 : int = prim::Constant[value=0](), scope: CharLSTM # <ipython-input-60-cdf22d77fd80>:68:0\n",
            "  %35 : Device = prim::Constant[value=\"cpu\"](), scope: CharLSTM # <ipython-input-60-cdf22d77fd80>:68:0\n",
            "  %36 : bool = prim::Constant[value=0](), scope: CharLSTM # <ipython-input-60-cdf22d77fd80>:68:0\n",
            "  %hidden_b : Float(2, 32, 64) = aten::randn(%32, %33, %34, %35, %36), scope: CharLSTM # <ipython-input-60-cdf22d77fd80>:68:0\n",
            "  %38 : int = prim::Constant[value=0](), scope: CharLSTM/Embedding[encoder] # /usr/local/lib/python3.6/dist-packages/torch/nn/functional.py:1484:0\n",
            "  %39 : bool = prim::Constant[value=0](), scope: CharLSTM/Embedding[encoder] # /usr/local/lib/python3.6/dist-packages/torch/nn/functional.py:1484:0\n",
            "  %40 : bool = prim::Constant[value=0](), scope: CharLSTM/Embedding[encoder] # /usr/local/lib/python3.6/dist-packages/torch/nn/functional.py:1484:0\n",
            "  %input.2 : Float(32, 42, 27) = aten::embedding(%weight.1, %input.1, %38, %39, %40), scope: CharLSTM/Embedding[encoder] # /usr/local/lib/python3.6/dist-packages/torch/nn/functional.py:1484:0\n",
            "  %42 : Device = prim::Constant[value=\"cpu\"](), scope: CharLSTM # /usr/local/lib/python3.6/dist-packages/torch/nn/utils/rnn.py:272:0\n",
            "  %43 : int = prim::Constant[value=4](), scope: CharLSTM # /usr/local/lib/python3.6/dist-packages/torch/nn/utils/rnn.py:272:0\n",
            "  %44 : bool = prim::Constant[value=0](), scope: CharLSTM # /usr/local/lib/python3.6/dist-packages/torch/nn/utils/rnn.py:272:0\n",
            "  %45 : bool = prim::Constant[value=0](), scope: CharLSTM # /usr/local/lib/python3.6/dist-packages/torch/nn/utils/rnn.py:272:0\n",
            "  %lengths.1 : Long(32) = aten::to(%x_length, %42, %43, %44, %45), scope: CharLSTM # /usr/local/lib/python3.6/dist-packages/torch/nn/utils/rnn.py:272:0\n",
            "  %47 : int = prim::Constant[value=-1](), scope: CharLSTM # /usr/local/lib/python3.6/dist-packages/torch/nn/utils/rnn.py:276:0\n",
            "  %48 : bool = prim::Constant[value=1](), scope: CharLSTM # /usr/local/lib/python3.6/dist-packages/torch/nn/utils/rnn.py:276:0\n",
            "  %lengths.2 : Long(32), %sorted_indices.1 : Long(32) = aten::sort(%lengths.1, %47, %48), scope: CharLSTM # /usr/local/lib/python3.6/dist-packages/torch/nn/utils/rnn.py:276:0\n",
            "  %51 : int = prim::Constant[value=4](), scope: CharLSTM # /usr/local/lib/python3.6/dist-packages/torch/nn/utils/rnn.py:277:0\n",
            "  %52 : int = prim::Constant[value=0](), scope: CharLSTM # /usr/local/lib/python3.6/dist-packages/torch/nn/utils/rnn.py:277:0\n",
            "  %53 : Device = prim::Constant[value=\"cpu\"](), scope: CharLSTM # /usr/local/lib/python3.6/dist-packages/torch/nn/utils/rnn.py:277:0\n",
            "  %54 : bool = prim::Constant[value=0](), scope: CharLSTM # /usr/local/lib/python3.6/dist-packages/torch/nn/utils/rnn.py:277:0\n",
            "  %55 : bool = prim::Constant[value=0](), scope: CharLSTM # /usr/local/lib/python3.6/dist-packages/torch/nn/utils/rnn.py:277:0\n",
            "  %56 : bool = prim::Constant[value=0](), scope: CharLSTM # /usr/local/lib/python3.6/dist-packages/torch/nn/utils/rnn.py:277:0\n",
            "  %sorted_indices : Long(32) = aten::to(%sorted_indices.1, %51, %52, %53, %54, %55, %56), scope: CharLSTM # /usr/local/lib/python3.6/dist-packages/torch/nn/utils/rnn.py:277:0\n",
            "  %58 : int = prim::Constant[value=0](), scope: CharLSTM # /usr/local/lib/python3.6/dist-packages/torch/nn/utils/rnn.py:279:0\n",
            "  %input.3 : Float(32, 42, 27) = aten::index_select(%input.2, %58, %sorted_indices), scope: CharLSTM # /usr/local/lib/python3.6/dist-packages/torch/nn/utils/rnn.py:279:0\n",
            "  %60 : bool = prim::Constant[value=1](), scope: CharLSTM # /usr/local/lib/python3.6/dist-packages/torch/nn/utils/rnn.py:282:0\n",
            "  %input.4 : Float(755, 27), %batch_sizes : Long(34) = aten::_pack_padded_sequence(%input.3, %lengths.2, %60), scope: CharLSTM # /usr/local/lib/python3.6/dist-packages/torch/nn/utils/rnn.py:282:0\n",
            "  %63 : int = prim::Constant[value=4](), scope: CharLSTM # /usr/local/lib/python3.6/dist-packages/torch/nn/utils/rnn.py:228:0\n",
            "  %64 : int = prim::Constant[value=0](), scope: CharLSTM # /usr/local/lib/python3.6/dist-packages/torch/nn/utils/rnn.py:228:0\n",
            "  %65 : Device = prim::Constant[value=\"cpu\"](), scope: CharLSTM # /usr/local/lib/python3.6/dist-packages/torch/nn/utils/rnn.py:228:0\n",
            "  %66 : bool = prim::Constant[value=0](), scope: CharLSTM # /usr/local/lib/python3.6/dist-packages/torch/nn/utils/rnn.py:228:0\n",
            "  %67 : None = prim::Constant(), scope: CharLSTM\n",
            "  %output : Long(32) = aten::empty_like(%sorted_indices, %63, %64, %65, %66, %67), scope: CharLSTM # /usr/local/lib/python3.6/dist-packages/torch/nn/utils/rnn.py:228:0\n",
            "  %69 : int = prim::Constant[value=0](), scope: CharLSTM # /usr/local/lib/python3.6/dist-packages/torch/nn/utils/rnn.py:230:0\n",
            "  %70 : int = prim::Constant[value=32](), scope: CharLSTM # /usr/local/lib/python3.6/dist-packages/torch/nn/utils/rnn.py:230:0\n",
            "  %71 : int = prim::Constant[value=1](), scope: CharLSTM # /usr/local/lib/python3.6/dist-packages/torch/nn/utils/rnn.py:230:0\n",
            "  %72 : int = prim::Constant[value=4](), scope: CharLSTM # /usr/local/lib/python3.6/dist-packages/torch/nn/utils/rnn.py:230:0\n",
            "  %73 : int = prim::Constant[value=0](), scope: CharLSTM # /usr/local/lib/python3.6/dist-packages/torch/nn/utils/rnn.py:230:0\n",
            "  %74 : Device = prim::Constant[value=\"cpu\"](), scope: CharLSTM # /usr/local/lib/python3.6/dist-packages/torch/nn/utils/rnn.py:230:0\n",
            "  %75 : bool = prim::Constant[value=0](), scope: CharLSTM # /usr/local/lib/python3.6/dist-packages/torch/nn/utils/rnn.py:230:0\n",
            "  %76 : Long(32) = aten::arange(%69, %70, %71, %72, %73, %74, %75), scope: CharLSTM # /usr/local/lib/python3.6/dist-packages/torch/nn/utils/rnn.py:230:0\n",
            "  %77 : int = prim::Constant[value=0](), scope: CharLSTM # /usr/local/lib/python3.6/dist-packages/torch/nn/utils/rnn.py:230:0\n",
            "  %permutation : Long(32) = aten::scatter_(%output, %77, %sorted_indices, %76), scope: CharLSTM # /usr/local/lib/python3.6/dist-packages/torch/nn/utils/rnn.py:230:0\n",
            "  %82 : int = prim::Constant[value=1](), scope: CharLSTM/LSTM[lstm] # /usr/local/lib/python3.6/dist-packages/torch/nn/modules/rnn.py:21:0\n",
            "  %hx.1 : Float(2, 32, 64) = aten::index_select(%hidden_a, %82, %sorted_indices), scope: CharLSTM/LSTM[lstm] # /usr/local/lib/python3.6/dist-packages/torch/nn/modules/rnn.py:21:0\n",
            "  %84 : int = prim::Constant[value=1](), scope: CharLSTM/LSTM[lstm] # /usr/local/lib/python3.6/dist-packages/torch/nn/modules/rnn.py:21:0\n",
            "  %hx : Float(2, 32, 64) = aten::index_select(%hidden_b, %84, %sorted_indices), scope: CharLSTM/LSTM[lstm] # /usr/local/lib/python3.6/dist-packages/torch/nn/modules/rnn.py:21:0\n",
            "  %124 : Tensor[] = prim::ListConstruct(%hx.1, %hx), scope: CharLSTM/LSTM[lstm]\n",
            "  %125 : Tensor[] = prim::ListConstruct(%10, %8, %6, %4, %11, %9, %7, %5), scope: CharLSTM/LSTM[lstm]\n",
            "  %126 : bool = prim::Constant[value=1](), scope: CharLSTM/LSTM[lstm] # /usr/local/lib/python3.6/dist-packages/torch/nn/modules/rnn.py:529:0\n",
            "  %127 : int = prim::Constant[value=2](), scope: CharLSTM/LSTM[lstm] # /usr/local/lib/python3.6/dist-packages/torch/nn/modules/rnn.py:529:0\n",
            "  %128 : float = prim::Constant[value=0](), scope: CharLSTM/LSTM[lstm] # /usr/local/lib/python3.6/dist-packages/torch/nn/modules/rnn.py:529:0\n",
            "  %129 : bool = prim::Constant[value=0](), scope: CharLSTM/LSTM[lstm] # /usr/local/lib/python3.6/dist-packages/torch/nn/modules/rnn.py:529:0\n",
            "  %130 : bool = prim::Constant[value=0](), scope: CharLSTM/LSTM[lstm] # /usr/local/lib/python3.6/dist-packages/torch/nn/modules/rnn.py:529:0\n",
            "  %131 : Float(755, 64), %tensor.1 : Float(2, 32, 64), %tensor : Float(2, 32, 64) = aten::lstm(%input.4, %batch_sizes, %124, %125, %126, %127, %128, %129, %130), scope: CharLSTM/LSTM[lstm] # /usr/local/lib/python3.6/dist-packages/torch/nn/modules/rnn.py:529:0\n",
            "  %138 : int = prim::Constant[value=0](), scope: CharLSTM # /usr/local/lib/python3.6/dist-packages/torch/nn/utils/rnn.py:320:0\n",
            "  %139 : int = aten::size(%batch_sizes, %138), scope: CharLSTM # /usr/local/lib/python3.6/dist-packages/torch/nn/utils/rnn.py:320:0\n",
            "  %max_seq_length : Long() = prim::NumToTensor(%139), scope: CharLSTM\n",
            "  %141 : int = aten::Int(%max_seq_length), scope: CharLSTM\n",
            "  %142 : bool = prim::Constant[value=1](), scope: CharLSTM # /usr/local/lib/python3.6/dist-packages/torch/nn/utils/rnn.py:329:0\n",
            "  %143 : float = prim::Constant[value=0](), scope: CharLSTM # /usr/local/lib/python3.6/dist-packages/torch/nn/utils/rnn.py:329:0\n",
            "  %padded_output : Float(32, 34, 64), %lengths : Long(32) = aten::_pad_packed_sequence(%131, %batch_sizes, %142, %143, %141), scope: CharLSTM # /usr/local/lib/python3.6/dist-packages/torch/nn/utils/rnn.py:329:0\n",
            "  %146 : int = prim::Constant[value=0](), scope: CharLSTM # /usr/local/lib/python3.6/dist-packages/torch/nn/utils/rnn.py:333:0\n",
            "  %x.1 : Float(32, 34, 64) = aten::index_select(%padded_output, %146, %permutation), scope: CharLSTM # /usr/local/lib/python3.6/dist-packages/torch/nn/utils/rnn.py:333:0\n",
            "  %157 : int = prim::Constant[value=0](), scope: CharLSTM # <ipython-input-60-cdf22d77fd80>:50:0\n",
            "  %x : Float(32, 34, 64) = aten::contiguous(%x.1, %157), scope: CharLSTM # <ipython-input-60-cdf22d77fd80>:50:0\n",
            "  %165 : int = prim::Constant[value=2](), scope: CharLSTM # <ipython-input-60-cdf22d77fd80>:51:0\n",
            "  %166 : int = aten::size(%x, %165), scope: CharLSTM # <ipython-input-60-cdf22d77fd80>:51:0\n",
            "  %167 : Long() = prim::NumToTensor(%166), scope: CharLSTM\n",
            "  %168 : int = aten::Int(%167), scope: CharLSTM\n",
            "  %169 : int = prim::Constant[value=-1](), scope: CharLSTM # <ipython-input-60-cdf22d77fd80>:51:0\n",
            "  %170 : int[] = prim::ListConstruct(%169, %168), scope: CharLSTM\n",
            "  %input.5 : Float(1088, 64) = aten::view(%x, %170), scope: CharLSTM # <ipython-input-60-cdf22d77fd80>:51:0\n",
            "  %172 : Float(64, 27) = aten::t(%weight), scope: CharLSTM/Linear[decoder] # /usr/local/lib/python3.6/dist-packages/torch/nn/functional.py:1370:0\n",
            "  %173 : int = prim::Constant[value=1](), scope: CharLSTM/Linear[decoder] # /usr/local/lib/python3.6/dist-packages/torch/nn/functional.py:1370:0\n",
            "  %174 : int = prim::Constant[value=1](), scope: CharLSTM/Linear[decoder] # /usr/local/lib/python3.6/dist-packages/torch/nn/functional.py:1370:0\n",
            "  %input : Float(1088, 27) = aten::addmm(%bias, %input.5, %172, %173, %174), scope: CharLSTM/Linear[decoder] # /usr/local/lib/python3.6/dist-packages/torch/nn/functional.py:1370:0\n",
            "  %176 : int = prim::Constant[value=1](), scope: CharLSTM # /usr/local/lib/python3.6/dist-packages/torch/nn/functional.py:1317:0\n",
            "  %177 : None = prim::Constant(), scope: CharLSTM\n",
            "  %178 : Float(1088, 27) = aten::log_softmax(%input, %176, %177), scope: CharLSTM # /usr/local/lib/python3.6/dist-packages/torch/nn/functional.py:1317:0\n",
            "  return (%178)\n",
            "\n",
            "----------------------------------------------------------------------------------------------------------------------------------------------------------------\n",
            "Iteration:   0 || Cross Entropy loss- Train: 2.794 Test: 2.761 || Batch Score- Train:   0.0% Test:   0.0% || Cumulative Score   0.0% || Character_accuracy - Train(cumulative):   3.0%   Test:  12.6% \n",
            "Iteration:  20 || Cross Entropy loss- Train: 2.421 Test: 2.418 || Batch Score- Train:   0.0% Test:   0.0% || Cumulative Score   0.0% || Character_accuracy - Train(cumulative):  13.1%   Test:  12.5% \n",
            "Iteration:  40 || Cross Entropy loss- Train: 2.421 Test: 2.280 || Batch Score- Train:   0.0% Test:   0.0% || Cumulative Score   0.0% || Character_accuracy - Train(cumulative):  13.3%   Test:  12.7% \n",
            "Iteration:  60 || Cross Entropy loss- Train: 2.204 Test: 2.114 || Batch Score- Train:   0.0% Test:   0.0% || Cumulative Score   0.0% || Character_accuracy - Train(cumulative):  14.1%   Test:  15.6% \n",
            "Iteration:  80 || Cross Entropy loss- Train: 2.069 Test: 2.001 || Batch Score- Train:   0.0% Test:   0.0% || Cumulative Score   0.0% || Character_accuracy - Train(cumulative):  15.8%   Test:  23.6% \n",
            "Iteration: 100 || Cross Entropy loss- Train: 1.881 Test: 1.910 || Batch Score- Train:   0.0% Test:   0.0% || Cumulative Score   0.0% || Character_accuracy - Train(cumulative):  17.3%   Test:  26.1% \n",
            "Iteration: 120 || Cross Entropy loss- Train: 1.771 Test: 1.832 || Batch Score- Train:   0.0% Test:   0.0% || Cumulative Score   0.0% || Character_accuracy - Train(cumulative):  18.6%   Test:  25.6% \n",
            "Iteration: 140 || Cross Entropy loss- Train: 1.661 Test: 1.612 || Batch Score- Train:   0.0% Test:   0.0% || Cumulative Score   0.0% || Character_accuracy - Train(cumulative):  20.3%   Test:  34.1% \n",
            "Iteration: 160 || Cross Entropy loss- Train: 1.426 Test: 1.546 || Batch Score- Train:   0.0% Test:   0.0% || Cumulative Score   0.0% || Character_accuracy - Train(cumulative):  22.6%   Test:  41.2% \n",
            "Iteration: 180 || Cross Entropy loss- Train: 1.200 Test: 1.284 || Batch Score- Train:   0.0% Test:   0.0% || Cumulative Score   0.0% || Character_accuracy - Train(cumulative):  25.4%   Test:  49.1% \n",
            "Iteration: 200 || Cross Entropy loss- Train: 1.119 Test: 1.054 || Batch Score- Train:   9.4% Test:   6.2% || Cumulative Score   0.2% || Character_accuracy - Train(cumulative):  28.4%   Test:  57.5% \n",
            "Iteration: 220 || Cross Entropy loss- Train: 0.940 Test: 0.880 || Batch Score- Train:   6.2% Test:  15.6% || Cumulative Score   0.9% || Character_accuracy - Train(cumulative):  31.4%   Test:  66.5% \n",
            "Iteration: 240 || Cross Entropy loss- Train: 0.812 Test: 0.752 || Batch Score- Train:  18.8% Test:   9.4% || Cumulative Score   2.2% || Character_accuracy - Train(cumulative):  34.4%   Test:  70.2% \n",
            "Iteration: 260 || Cross Entropy loss- Train: 0.662 Test: 0.717 || Batch Score- Train:  34.4% Test:  15.6% || Cumulative Score   4.0% || Character_accuracy - Train(cumulative):  37.3%   Test:  72.7% \n",
            "Iteration: 280 || Cross Entropy loss- Train: 0.568 Test: 0.584 || Batch Score- Train:  46.9% Test:  53.1% || Cumulative Score   6.6% || Character_accuracy - Train(cumulative):  40.1%   Test:  79.7% \n",
            "Iteration: 300 || Cross Entropy loss- Train: 0.447 Test: 0.570 || Batch Score- Train:  71.9% Test:  46.9% || Cumulative Score   9.8% || Character_accuracy - Train(cumulative):  42.6%   Test:  78.8% \n",
            "Iteration: 320 || Cross Entropy loss- Train: 0.522 Test: 0.557 || Batch Score- Train:  62.5% Test:  75.0% || Cumulative Score  13.3% || Character_accuracy - Train(cumulative):  45.1%   Test:  80.9% \n",
            "Iteration: 340 || Cross Entropy loss- Train: 0.471 Test: 0.452 || Batch Score- Train:  68.8% Test:  68.8% || Cumulative Score  16.6% || Character_accuracy - Train(cumulative):  47.4%   Test:  83.3% \n",
            "Iteration: 360 || Cross Entropy loss- Train: 0.346 Test: 0.491 || Batch Score- Train:  84.4% Test:  62.5% || Cumulative Score  19.8% || Character_accuracy - Train(cumulative):  49.4%   Test:  81.6% \n",
            "Iteration: 380 || Cross Entropy loss- Train: 0.410 Test: 0.372 || Batch Score- Train:  78.1% Test:  81.2% || Cumulative Score  23.0% || Character_accuracy - Train(cumulative):  51.4%   Test:  86.0% \n",
            "Iteration: 400 || Cross Entropy loss- Train: 0.375 Test: 0.348 || Batch Score- Train:  81.2% Test:  81.2% || Cumulative Score  26.2% || Character_accuracy - Train(cumulative):  53.2%   Test:  86.4% \n",
            "Iteration: 420 || Cross Entropy loss- Train: 0.312 Test: 0.335 || Batch Score- Train:  93.8% Test:  90.6% || Cumulative Score  29.3% || Character_accuracy - Train(cumulative):  54.9%   Test:  88.1% \n",
            "Iteration: 440 || Cross Entropy loss- Train: 0.270 Test: 0.232 || Batch Score- Train:  90.6% Test:  96.9% || Cumulative Score  32.2% || Character_accuracy - Train(cumulative):  56.5%   Test:  92.6% \n",
            "Iteration: 460 || Cross Entropy loss- Train: 0.255 Test: 0.230 || Batch Score- Train:  87.5% Test:  96.9% || Cumulative Score  34.7% || Character_accuracy - Train(cumulative):  57.9%   Test:  92.3% \n",
            "Iteration: 480 || Cross Entropy loss- Train: 0.287 Test: 0.235 || Batch Score- Train:  93.8% Test:  93.8% || Cumulative Score  37.1% || Character_accuracy - Train(cumulative):  59.3%   Test:  92.1% \n",
            "Iteration: 500 || Cross Entropy loss- Train: 0.246 Test: 0.218 || Batch Score- Train:  93.8% Test:  93.8% || Cumulative Score  39.4% || Character_accuracy - Train(cumulative):  60.6%   Test:  91.7% \n",
            "Iteration: 520 || Cross Entropy loss- Train: 0.324 Test: 0.140 || Batch Score- Train:  90.6% Test: 100.0% || Cumulative Score  41.6% || Character_accuracy - Train(cumulative):  61.8%   Test:  95.5% \n",
            "Iteration: 540 || Cross Entropy loss- Train: 0.284 Test: 0.247 || Batch Score- Train:  90.6% Test:  90.6% || Cumulative Score  43.5% || Character_accuracy - Train(cumulative):  62.8%   Test:  90.4% \n",
            "Iteration: 560 || Cross Entropy loss- Train: 0.195 Test: 0.256 || Batch Score- Train:  96.9% Test:  96.9% || Cumulative Score  45.3% || Character_accuracy - Train(cumulative):  63.9%   Test:  90.4% \n",
            "Iteration: 580 || Cross Entropy loss- Train: 0.276 Test: 0.206 || Batch Score- Train:  93.8% Test:  96.9% || Cumulative Score  47.1% || Character_accuracy - Train(cumulative):  64.8%   Test:  92.5% \n",
            "Iteration: 600 || Cross Entropy loss- Train: 0.234 Test: 0.353 || Batch Score- Train:  90.6% Test:  90.6% || Cumulative Score  48.7% || Character_accuracy - Train(cumulative):  65.8%   Test:  87.1% \n",
            "Iteration: 620 || Cross Entropy loss- Train: 0.240 Test: 0.181 || Batch Score- Train:  90.6% Test: 100.0% || Cumulative Score  50.2% || Character_accuracy - Train(cumulative):  66.6%   Test:  94.0% \n",
            "Iteration: 640 || Cross Entropy loss- Train: 0.211 Test: 0.193 || Batch Score- Train:  93.8% Test:  96.9% || Cumulative Score  51.4% || Character_accuracy - Train(cumulative):  67.3%   Test:  93.5% \n",
            "Iteration: 660 || Cross Entropy loss- Train: 0.187 Test: 0.261 || Batch Score- Train:  96.9% Test:  93.8% || Cumulative Score  52.7% || Character_accuracy - Train(cumulative):  68.1%   Test:  90.5% \n",
            "Iteration: 680 || Cross Entropy loss- Train: 0.704 Test: 0.180 || Batch Score- Train:  56.2% Test:  93.8% || Cumulative Score  53.9% || Character_accuracy - Train(cumulative):  68.7%   Test:  93.3% \n",
            "Iteration: 700 || Cross Entropy loss- Train: 0.263 Test: 0.193 || Batch Score- Train:  93.8% Test:  96.9% || Cumulative Score  54.9% || Character_accuracy - Train(cumulative):  69.3%   Test:  91.5% \n",
            "Iteration: 720 || Cross Entropy loss- Train: 0.193 Test: 0.128 || Batch Score- Train:  93.8% Test: 100.0% || Cumulative Score  56.0% || Character_accuracy - Train(cumulative):  69.9%   Test:  95.4% \n",
            "Iteration: 740 || Cross Entropy loss- Train: 0.165 Test: 0.214 || Batch Score- Train:  96.9% Test:  96.9% || Cumulative Score  57.1% || Character_accuracy - Train(cumulative):  70.6%   Test:  91.6% \n",
            "Iteration: 760 || Cross Entropy loss- Train: 0.224 Test: 0.192 || Batch Score- Train: 100.0% Test:  96.9% || Cumulative Score  57.9% || Character_accuracy - Train(cumulative):  71.0%   Test:  92.0% \n",
            "Iteration: 780 || Cross Entropy loss- Train: 0.185 Test: 0.148 || Batch Score- Train:  93.8% Test: 100.0% || Cumulative Score  58.9% || Character_accuracy - Train(cumulative):  71.6%   Test:  94.6% \n",
            "Iteration: 800 || Cross Entropy loss- Train: 0.147 Test: 0.166 || Batch Score- Train: 100.0% Test: 100.0% || Cumulative Score  59.8% || Character_accuracy - Train(cumulative):  72.1%   Test:  94.6% \n",
            "Iteration: 820 || Cross Entropy loss- Train: 0.138 Test: 0.217 || Batch Score- Train: 100.0% Test:  96.9% || Cumulative Score  60.8% || Character_accuracy - Train(cumulative):  72.7%   Test:  92.6% \n",
            "Iteration: 840 || Cross Entropy loss- Train: 0.122 Test: 0.197 || Batch Score- Train: 100.0% Test:  96.9% || Cumulative Score  61.7% || Character_accuracy - Train(cumulative):  73.2%   Test:  92.6% \n",
            "Iteration: 860 || Cross Entropy loss- Train: 0.102 Test: 0.119 || Batch Score- Train: 100.0% Test: 100.0% || Cumulative Score  62.5% || Character_accuracy - Train(cumulative):  73.7%   Test:  96.0% \n",
            "Iteration: 880 || Cross Entropy loss- Train: 0.114 Test: 0.129 || Batch Score- Train: 100.0% Test: 100.0% || Cumulative Score  63.3% || Character_accuracy - Train(cumulative):  74.2%   Test:  95.4% \n",
            "Iteration: 900 || Cross Entropy loss- Train: 0.115 Test: 0.093 || Batch Score- Train: 100.0% Test: 100.0% || Cumulative Score  64.1% || Character_accuracy - Train(cumulative):  74.7%   Test:  96.5% \n",
            "Iteration: 920 || Cross Entropy loss- Train: 0.095 Test: 0.097 || Batch Score- Train: 100.0% Test: 100.0% || Cumulative Score  64.9% || Character_accuracy - Train(cumulative):  75.2%   Test:  96.4% \n",
            "Iteration: 940 || Cross Entropy loss- Train: 0.150 Test: 0.104 || Batch Score- Train:  96.9% Test:  96.9% || Cumulative Score  65.6% || Character_accuracy - Train(cumulative):  75.6%   Test:  96.0% \n",
            "Iteration: 960 || Cross Entropy loss- Train: 0.132 Test: 0.231 || Batch Score- Train: 100.0% Test:  93.8% || Cumulative Score  66.2% || Character_accuracy - Train(cumulative):  76.0%   Test:  92.9% \n",
            "Iteration: 980 || Cross Entropy loss- Train: 0.141 Test: 0.101 || Batch Score- Train:  96.9% Test: 100.0% || Cumulative Score  66.9% || Character_accuracy - Train(cumulative):  76.4%   Test:  96.3% \n",
            "Iteration:1000 || Cross Entropy loss- Train: 0.078 Test: 0.099 || Batch Score- Train: 100.0% Test: 100.0% || Cumulative Score  67.5% || Character_accuracy - Train(cumulative):  76.8%   Test:  97.4% \n",
            "Iteration:1020 || Cross Entropy loss- Train: 0.092 Test: 0.066 || Batch Score- Train: 100.0% Test: 100.0% || Cumulative Score  68.2% || Character_accuracy - Train(cumulative):  77.2%   Test:  97.9% \n",
            "Iteration:1040 || Cross Entropy loss- Train: 0.091 Test: 0.089 || Batch Score- Train: 100.0% Test: 100.0% || Cumulative Score  68.8% || Character_accuracy - Train(cumulative):  77.6%   Test:  97.1% \n",
            "Iteration:1060 || Cross Entropy loss- Train: 0.056 Test: 0.079 || Batch Score- Train: 100.0% Test: 100.0% || Cumulative Score  69.4% || Character_accuracy - Train(cumulative):  78.0%   Test:  97.6% \n",
            "Iteration:1080 || Cross Entropy loss- Train: 0.064 Test: 0.172 || Batch Score- Train: 100.0% Test:  93.8% || Cumulative Score  69.9% || Character_accuracy - Train(cumulative):  78.3%   Test:  94.7% \n",
            "Iteration:1100 || Cross Entropy loss- Train: 0.088 Test: 0.081 || Batch Score- Train: 100.0% Test: 100.0% || Cumulative Score  70.4% || Character_accuracy - Train(cumulative):  78.7%   Test:  96.9% \n",
            "Iteration:1120 || Cross Entropy loss- Train: 0.053 Test: 0.059 || Batch Score- Train: 100.0% Test: 100.0% || Cumulative Score  71.0% || Character_accuracy - Train(cumulative):  79.0%   Test:  98.1% \n",
            "----------------------------------------------------------------------------------------------------------------------------------------------------------------\n",
            "Stopping Condition Achieved: Average of Last 16 (2*8) Cross entropy Loss is less than 0.09:  tensor(0.0882, grad_fn=<DivBackward0>)\n",
            "----------------------------------------------------------------------------------------------------------------------------------------------------------------\n",
            "0.9699623491109692\n"
          ],
          "name": "stdout"
        }
      ]
    },
    {
      "cell_type": "markdown",
      "metadata": {
        "id": "7dkHmXDdQo4k",
        "colab_type": "text"
      },
      "source": [
        "## M - Testing on 16384 string messages"
      ]
    },
    {
      "cell_type": "code",
      "metadata": {
        "id": "8WhD7mKUtN4s",
        "colab_type": "code",
        "colab": {}
      },
      "source": [
        "# Train Data loader\n",
        "testing_batch_size = 64\n",
        "test_exp = int(16384/testing_batch_size)+1\n",
        "batch_score_test = []\n",
        "\n",
        "for i in range(test_exp):\n",
        "    x,y,length,a=batch_tensor(testing_batch_size)\n",
        "    y_pred=final_model(x,length)\n",
        "    batch_score_test.append(score(*numerical_string(testing_batch_size,y_pred,a,length)))\n",
        "batch_score_test = np.array(batch_score_test)\n",
        "writer.close()"
      ],
      "execution_count": 0,
      "outputs": []
    },
    {
      "cell_type": "code",
      "metadata": {
        "id": "BGuntGihRy1V",
        "colab_type": "code",
        "colab": {
          "base_uri": "https://localhost:8080/",
          "height": 34
        },
        "outputId": "dd038b4d-02c6-42b8-9303-e1fc125e0c66"
      },
      "source": [
        "print(batch_score_test.mean(),batch_score_test.std())"
      ],
      "execution_count": 72,
      "outputs": [
        {
          "output_type": "stream",
          "text": [
            "0.9936770428015564 0.010218349549686036\n"
          ],
          "name": "stdout"
        }
      ]
    },
    {
      "cell_type": "code",
      "metadata": {
        "id": "qhvPKbZBOAec",
        "colab_type": "code",
        "colab": {
          "base_uri": "https://localhost:8080/",
          "height": 34
        },
        "outputId": "81c8ee88-35fb-4f16-91ba-ef8bdd68f539"
      },
      "source": [
        "batch_score_test[np.where( batch_score_test < 0.95 )]"
      ],
      "execution_count": 73,
      "outputs": [
        {
          "output_type": "execute_result",
          "data": {
            "text/plain": [
              "array([], dtype=float64)"
            ]
          },
          "metadata": {
            "tags": []
          },
          "execution_count": 73
        }
      ]
    },
    {
      "cell_type": "code",
      "metadata": {
        "id": "kxdjTOXqbGrx",
        "colab_type": "code",
        "colab": {}
      },
      "source": [
        "import numpy as np\n",
        "import pandas as pd\n",
        "import seaborn as sns\n",
        "import matplotlib.pyplot as plt\n",
        "from scipy import stats"
      ],
      "execution_count": 0,
      "outputs": []
    },
    {
      "cell_type": "code",
      "metadata": {
        "id": "zOo6jpm4bKak",
        "colab_type": "code",
        "colab": {}
      },
      "source": [
        "sns.set(color_codes=True)"
      ],
      "execution_count": 0,
      "outputs": []
    },
    {
      "cell_type": "code",
      "metadata": {
        "id": "-r4ZblkwbKeg",
        "colab_type": "code",
        "colab": {
          "base_uri": "https://localhost:8080/",
          "height": 285
        },
        "outputId": "544d6532-cefa-475d-c4c1-88c6870b9dc8"
      },
      "source": [
        "sns.distplot(batch_score_test)"
      ],
      "execution_count": 76,
      "outputs": [
        {
          "output_type": "execute_result",
          "data": {
            "text/plain": [
              "<matplotlib.axes._subplots.AxesSubplot at 0x7f3d1240d048>"
            ]
          },
          "metadata": {
            "tags": []
          },
          "execution_count": 76
        },
        {
          "output_type": "display_data",
          "data": {
            "image/png": "[encoded data removed]",
            "text/plain": [
              "<Figure size 432x288 with 1 Axes>"
            ]
          },
          "metadata": {
            "tags": []
          }
        }
      ]
    },
    {
      "cell_type": "markdown",
      "metadata": {
        "id": "jnnEwL8Cce3k",
        "colab_type": "text"
      },
      "source": [
        "- The average of accuracies of all these batches would be Normal Distribution\n",
        "    - Parameters of this Normal distribution\n",
        "        - Mean: Average of accuracies\n",
        "        - Variance: Sample Variance/(Number of batches)  "
      ]
    },
    {
      "cell_type": "code",
      "metadata": {
        "id": "_N96wa-NdMHx",
        "colab_type": "code",
        "colab": {
          "base_uri": "https://localhost:8080/",
          "height": 285
        },
        "outputId": "9020bc16-b0f4-4ae6-f5d7-4c4e5acabf78"
      },
      "source": [
        "import math\n",
        "mean = batch_score_test.mean()\n",
        "std = (batch_score_test.std())/math.sqrt(test_exp)\n",
        "x = np.random.normal(loc=mean,scale=std,size=100)\n",
        "sns.distplot(x)"
      ],
      "execution_count": 77,
      "outputs": [
        {
          "output_type": "execute_result",
          "data": {
            "text/plain": [
              "<matplotlib.axes._subplots.AxesSubplot at 0x7f3d14e2dd30>"
            ]
          },
          "metadata": {
            "tags": []
          },
          "execution_count": 77
        },
        {
          "output_type": "display_data",
          "data": {
            "image/png": "[encoded data removed]",
            "text/plain": [
              "<Figure size 432x288 with 1 Axes>"
            ]
          },
          "metadata": {
            "tags": []
          }
        }
      ]
    },
    {
      "cell_type": "code",
      "metadata": {
        "id": "dAzfn4gue0-w",
        "colab_type": "code",
        "colab": {
          "base_uri": "https://localhost:8080/",
          "height": 34
        },
        "outputId": "37898875-a2ad-42ec-98d7-ac91fda56a92"
      },
      "source": [
        "import scipy.stats as st\n",
        "100 - st.norm.cdf((0.9-mean)/std)*100"
      ],
      "execution_count": 78,
      "outputs": [
        {
          "output_type": "execute_result",
          "data": {
            "text/plain": [
              "100.0"
            ]
          },
          "metadata": {
            "tags": []
          },
          "execution_count": 78
        }
      ]
    },
    {
      "cell_type": "code",
      "metadata": {
        "id": "-9PhuNVGhLf1",
        "colab_type": "code",
        "colab": {
          "base_uri": "https://localhost:8080/",
          "height": 34
        },
        "outputId": "a3be4915-45d3-49df-9d9f-b71b0f2e4536"
      },
      "source": [
        "(0.9-mean)/std"
      ],
      "execution_count": 79,
      "outputs": [
        {
          "output_type": "execute_result",
          "data": {
            "text/plain": [
              "-146.96671237206928"
            ]
          },
          "metadata": {
            "tags": []
          },
          "execution_count": 79
        }
      ]
    },
    {
      "cell_type": "markdown",
      "metadata": {
        "id": "yMc0OPPtgphi",
        "colab_type": "text"
      },
      "source": [
        "- This suggests that the current model gives an accuracy of more than 90% almost every time. \n",
        "- The one-tail hypothesis test on the average of accuracies gives (100-$\\epsilon$)% confidence (In reality it can't be 100%)\n",
        "- Here it is rounded because the precision required is beyond the capability of scipy.stats functions)"
      ]
    },
    {
      "cell_type": "markdown",
      "metadata": {
        "id": "koKPW7Oz_BfA",
        "colab_type": "text"
      },
      "source": [
        "## N - Model visualization in Tensorboard\n",
        "- Download the log files form the [link](https://drive.google.com/open?id=17WO-mzmo754fUaYQYuDFkP-EZv_W0kKj) and run it on local Tensorboard\n",
        "- Log files and visualization are also uploaded to Git Repo"
      ]
    },
    {
      "cell_type": "markdown",
      "metadata": {
        "id": "FFQ2D_pMFOos",
        "colab_type": "text"
      },
      "source": [
        "# Appendix - Bayesian Optimization\n",
        "## Hyperparameter tuning\n",
        "Popularly there are 3 techniques to optimize hyperparameters of the model\n",
        "- **Grid Search**\n",
        "    - High computation is required, especially when the grid becomes higher-dimensional. \n",
        "    - It does not consider any improvements over any parameters to anchor the tuning. \n",
        "    - Brute force method\n",
        "- **Random Search**\n",
        "    - Many times random search gives better result\n",
        "    - However, this is too random for the conclusion and hope for the best parameters\n",
        "    - It becomes difficult when the number of hyperparameters increases\n",
        "- **Bayesian Optimization**\n",
        "    - Bayesian Optimization based on Gaussian process\n",
        "    - [Tutorial on Bayesian Optimization](https://arxiv.org/pdf/1012.2599.pdf)"
      ]
    },
    {
      "cell_type": "code",
      "metadata": {
        "id": "fPJuuNlpbvcb",
        "colab_type": "code",
        "colab": {
          "base_uri": "https://localhost:8080/",
          "height": 173
        },
        "outputId": "825d60c8-3b3e-4c71-e773-adc13a514076"
      },
      "source": [
        "!pip install hyperopt\n",
        "from hyperopt import fmin, tpe, hp, STATUS_OK, Trials\n",
        "from hyperopt.pyll import scope\n",
        "from hyperopt.pyll.stochastic import sample\n",
        "import random\n",
        "import seaborn as sns\n",
        "import time"
      ],
      "execution_count": 61,
      "outputs": [
        {
          "output_type": "stream",
          "text": [
            "Requirement already satisfied: hyperopt in /usr/local/lib/python3.6/dist-packages (0.1.2)\n",
            "Requirement already satisfied: future in /usr/local/lib/python3.6/dist-packages (from hyperopt) (0.16.0)\n",
            "Requirement already satisfied: numpy in /usr/local/lib/python3.6/dist-packages (from hyperopt) (1.17.5)\n",
            "Requirement already satisfied: tqdm in /usr/local/lib/python3.6/dist-packages (from hyperopt) (4.28.1)\n",
            "Requirement already satisfied: scipy in /usr/local/lib/python3.6/dist-packages (from hyperopt) (1.4.1)\n",
            "Requirement already satisfied: networkx in /usr/local/lib/python3.6/dist-packages (from hyperopt) (2.4)\n",
            "Requirement already satisfied: six in /usr/local/lib/python3.6/dist-packages (from hyperopt) (1.12.0)\n",
            "Requirement already satisfied: pymongo in /usr/local/lib/python3.6/dist-packages (from hyperopt) (3.10.0)\n",
            "Requirement already satisfied: decorator>=4.3.0 in /usr/local/lib/python3.6/dist-packages (from networkx->hyperopt) (4.4.1)\n"
          ],
          "name": "stdout"
        }
      ]
    },
    {
      "cell_type": "code",
      "metadata": {
        "id": "b5zB-OEubvuF",
        "colab_type": "code",
        "colab": {}
      },
      "source": [
        "param_hyperopt= {\n",
        "    'hiddensize': hp.choice('hiddensize',[8,16,32,64]),\n",
        "    'nlayers': hp.choice('nlayers',[1,2,3]),\n",
        "    'batchsize': hp.choice('batchsize',[8,16,32,64]),\n",
        "}"
      ],
      "execution_count": 0,
      "outputs": []
    },
    {
      "cell_type": "code",
      "metadata": {
        "id": "F4G354VAbv-G",
        "colab_type": "code",
        "colab": {}
      },
      "source": [
        "def hyperopt(param_space,num_eval):\n",
        "    \n",
        "    start = time.time()\n",
        "    \n",
        "    def objective_function(params):\n",
        "        final_model,optimizer,scheduler = model(params)\n",
        "        input_size = 27\n",
        "        output_size = 27\n",
        "        n_characters=27\n",
        "        hidden_size = params['hiddensize']\n",
        "        n_layers = params['nlayers']\n",
        "        batch_size = params['batchsize']\n",
        "        learning_rate=0.01\n",
        "\n",
        "\n",
        "        printing_model(final_model)\n",
        "        comment ='layers'+str(n_layers)+'_hiddensize'+str(hidden_size)+'_batchsize'+str(batch_size)\n",
        "        hyopt_score = train(final_model, 5000, batch_size,criterion, optimizer,comment)\n",
        "        return {'loss': -hyopt_score, 'status': STATUS_OK}\n",
        "\n",
        "    trials = Trials()\n",
        "    best_param = fmin(objective_function, \n",
        "                      param_space, \n",
        "                      algo=tpe.suggest, \n",
        "                      max_evals=num_eval, \n",
        "                      trials=trials,\n",
        "                      rstate= np.random.RandomState(1))\n",
        "    \n",
        "    loss = [x['result']['loss'] for x in trials.trials]\n",
        "    print(best_param)\n",
        "\n",
        "    print(\"Results\")\n",
        "    print(\"Best Character Accuracy: \", min(loss)*-1)\n",
        "    print(\"Best parameters: \", best_param)\n",
        "\n",
        "    \n",
        "    return best_param"
      ],
      "execution_count": 0,
      "outputs": []
    },
    {
      "cell_type": "code",
      "metadata": {
        "id": "GKCFBLNvbwKv",
        "colab_type": "code",
        "colab": {
          "base_uri": "https://localhost:8080/",
          "height": 1000
        },
        "outputId": "312dd9e8-2fc6-4b97-b53f-4c110ffe0ea6"
      },
      "source": [
        "best_param = hyperopt(param_hyperopt,10)"
      ],
      "execution_count": 67,
      "outputs": [
        {
          "output_type": "stream",
          "text": [
            "Printing Model\n",
            "CharLSTM(\n",
            "  (encoder): Embedding(27, 27, padding_idx=0)\n",
            "  (lstm): LSTM(27, 8, batch_first=True)\n",
            "  (decoder): Linear(in_features=8, out_features=27, bias=True)\n",
            ")\n",
            "----------------------------------------------------------------------------------------------------------------------------------------------------------------\n",
            "Number of Paramters: \n",
            "2156\n",
            "----------------------------------------------------------------------------------------------------------------------------------------------------------------\n",
            "torch.Size([27, 27])\n",
            "torch.Size([32, 27])\n",
            "torch.Size([32, 8])\n",
            "torch.Size([32])\n",
            "torch.Size([32])\n",
            "torch.Size([27, 8])\n",
            "torch.Size([27])\n",
            "----------------------------------------------------------------------------------------------------------------------------------------------------------------\n",
            "Iteration:   0 || Cross Entropy loss- Train: 2.543 Test: 2.690 || Batch Score- Train:   0.0% Test:   0.0% || Cumulative Score   0.0% || Character_accuracy - Train(cumulative):   0.0%   Test:   0.5% \n",
            "Iteration:  20 || Cross Entropy loss- Train: 2.377 Test: 2.214 || Batch Score- Train:   0.0% Test:   0.0% || Cumulative Score   0.0% || Character_accuracy - Train(cumulative):  10.7%   Test:  14.7% \n",
            "Iteration:  40 || Cross Entropy loss- Train: 2.208 Test: 2.420 || Batch Score- Train:   0.0% Test:   0.0% || Cumulative Score   0.0% || Character_accuracy - Train(cumulative):  12.0%   Test:  12.7% \n",
            "Iteration:  60 || Cross Entropy loss- Train: 1.994 Test: 2.284 || Batch Score- Train:   0.0% Test:   0.0% || Cumulative Score   0.0% || Character_accuracy - Train(cumulative):  12.3%   Test:  14.2% \n",
            "Iteration:  80 || Cross Entropy loss- Train: 2.098 Test: 2.097 || Batch Score- Train:   0.0% Test:   0.0% || Cumulative Score   0.0% || Character_accuracy - Train(cumulative):  12.5%   Test:  11.7% \n",
            "Iteration: 100 || Cross Entropy loss- Train: 1.999 Test: 1.886 || Batch Score- Train:   0.0% Test:   0.0% || Cumulative Score   0.0% || Character_accuracy - Train(cumulative):  13.0%   Test:  17.8% \n",
            "Iteration: 120 || Cross Entropy loss- Train: 1.992 Test: 1.589 || Batch Score- Train:   0.0% Test:   0.0% || Cumulative Score   0.0% || Character_accuracy - Train(cumulative):  14.0%   Test:  19.9% \n",
            "Iteration: 140 || Cross Entropy loss- Train: 2.099 Test: 1.717 || Batch Score- Train:   0.0% Test:   0.0% || Cumulative Score   0.0% || Character_accuracy - Train(cumulative):  15.0%   Test:  23.9% \n",
            "Iteration: 160 || Cross Entropy loss- Train: 1.817 Test: 1.660 || Batch Score- Train:   0.0% Test:   0.0% || Cumulative Score   0.0% || Character_accuracy - Train(cumulative):  15.9%   Test:  23.7% \n",
            "Iteration: 180 || Cross Entropy loss- Train: 1.716 Test: 1.828 || Batch Score- Train:   0.0% Test:   0.0% || Cumulative Score   0.0% || Character_accuracy - Train(cumulative):  16.6%   Test:  21.7% \n",
            "Iteration: 200 || Cross Entropy loss- Train: 1.820 Test: 1.890 || Batch Score- Train:   0.0% Test:   0.0% || Cumulative Score   0.0% || Character_accuracy - Train(cumulative):  17.2%   Test:  20.6% \n",
            "Iteration: 220 || Cross Entropy loss- Train: 1.697 Test: 1.901 || Batch Score- Train:   0.0% Test:   0.0% || Cumulative Score   0.0% || Character_accuracy - Train(cumulative):  17.6%   Test:  21.8% \n",
            "Iteration: 240 || Cross Entropy loss- Train: 1.694 Test: 1.723 || Batch Score- Train:   0.0% Test:   0.0% || Cumulative Score   0.0% || Character_accuracy - Train(cumulative):  18.1%   Test:  24.2% \n",
            "Iteration: 260 || Cross Entropy loss- Train: 1.856 Test: 1.875 || Batch Score- Train:   0.0% Test:   0.0% || Cumulative Score   0.0% || Character_accuracy - Train(cumulative):  18.5%   Test:  17.9% \n",
            "Iteration: 280 || Cross Entropy loss- Train: 1.690 Test: 1.470 || Batch Score- Train:   0.0% Test:   0.0% || Cumulative Score   0.0% || Character_accuracy - Train(cumulative):  18.9%   Test:  29.4% \n",
            "Iteration: 300 || Cross Entropy loss- Train: 1.654 Test: 1.850 || Batch Score- Train:   0.0% Test:   0.0% || Cumulative Score   0.0% || Character_accuracy - Train(cumulative):  19.3%   Test:  26.4% \n",
            "Iteration: 320 || Cross Entropy loss- Train: 1.641 Test: 1.529 || Batch Score- Train:   0.0% Test:   0.0% || Cumulative Score   0.0% || Character_accuracy - Train(cumulative):  19.7%   Test:  25.9% \n",
            "Iteration: 340 || Cross Entropy loss- Train: 1.552 Test: 1.778 || Batch Score- Train:   0.0% Test:   0.0% || Cumulative Score   0.0% || Character_accuracy - Train(cumulative):  20.0%   Test:  21.6% \n",
            "Iteration: 360 || Cross Entropy loss- Train: 1.292 Test: 1.611 || Batch Score- Train:   0.0% Test:   0.0% || Cumulative Score   0.0% || Character_accuracy - Train(cumulative):  20.3%   Test:  24.0% \n",
            "Iteration: 380 || Cross Entropy loss- Train: 1.531 Test: 1.705 || Batch Score- Train:   0.0% Test:   0.0% || Cumulative Score   0.0% || Character_accuracy - Train(cumulative):  20.6%   Test:  23.0% \n",
            "Iteration: 400 || Cross Entropy loss- Train: 1.583 Test: 1.410 || Batch Score- Train:   0.0% Test:   0.0% || Cumulative Score   0.0% || Character_accuracy - Train(cumulative):  20.9%   Test:  31.4% \n",
            "Iteration: 420 || Cross Entropy loss- Train: 1.458 Test: 1.678 || Batch Score- Train:   0.0% Test:   0.0% || Cumulative Score   0.0% || Character_accuracy - Train(cumulative):  21.1%   Test:  23.5% \n",
            "Iteration: 440 || Cross Entropy loss- Train: 1.724 Test: 1.633 || Batch Score- Train:   0.0% Test:   0.0% || Cumulative Score   0.0% || Character_accuracy - Train(cumulative):  21.4%   Test:  30.8% \n",
            "Iteration: 460 || Cross Entropy loss- Train: 1.670 Test: 1.620 || Batch Score- Train:   0.0% Test:   0.0% || Cumulative Score   0.0% || Character_accuracy - Train(cumulative):  21.6%   Test:  29.6% \n",
            "Iteration: 480 || Cross Entropy loss- Train: 1.710 Test: 1.983 || Batch Score- Train:   0.0% Test:   0.0% || Cumulative Score   0.0% || Character_accuracy - Train(cumulative):  21.8%   Test:  20.6% \n",
            "Iteration: 500 || Cross Entropy loss- Train: 1.530 Test: 1.404 || Batch Score- Train:   0.0% Test:   0.0% || Cumulative Score   0.0% || Character_accuracy - Train(cumulative):  22.1%   Test:  26.8% \n",
            "Iteration: 520 || Cross Entropy loss- Train: 1.775 Test: 1.373 || Batch Score- Train:   0.0% Test:   0.0% || Cumulative Score   0.0% || Character_accuracy - Train(cumulative):  22.4%   Test:  31.4% \n",
            "Iteration: 540 || Cross Entropy loss- Train: 1.451 Test: 1.571 || Batch Score- Train:   0.0% Test:   0.0% || Cumulative Score   0.0% || Character_accuracy - Train(cumulative):  22.6%   Test:  28.0% \n",
            "Iteration: 560 || Cross Entropy loss- Train: 1.790 Test: 1.791 || Batch Score- Train:   0.0% Test:   0.0% || Cumulative Score   0.0% || Character_accuracy - Train(cumulative):  22.8%   Test:  25.3% \n",
            "Iteration: 580 || Cross Entropy loss- Train: 1.403 Test: 1.244 || Batch Score- Train:   0.0% Test:   0.0% || Cumulative Score   0.0% || Character_accuracy - Train(cumulative):  23.1%   Test:  35.0% \n",
            "Iteration: 600 || Cross Entropy loss- Train: 1.663 Test: 1.176 || Batch Score- Train:   0.0% Test:   0.0% || Cumulative Score   0.0% || Character_accuracy - Train(cumulative):  23.3%   Test:  31.8% \n",
            "Iteration: 620 || Cross Entropy loss- Train: 1.427 Test: 1.467 || Batch Score- Train:   0.0% Test:   0.0% || Cumulative Score   0.0% || Character_accuracy - Train(cumulative):  23.5%   Test:  31.8% \n",
            "Iteration: 640 || Cross Entropy loss- Train: 1.354 Test: 1.445 || Batch Score- Train:   0.0% Test:   0.0% || Cumulative Score   0.0% || Character_accuracy - Train(cumulative):  23.7%   Test:  28.9% \n",
            "Iteration: 660 || Cross Entropy loss- Train: 1.265 Test: 1.593 || Batch Score- Train:   0.0% Test:   0.0% || Cumulative Score   0.0% || Character_accuracy - Train(cumulative):  23.8%   Test:  27.1% \n",
            "Iteration: 680 || Cross Entropy loss- Train: 1.582 Test: 1.359 || Batch Score- Train:   0.0% Test:   0.0% || Cumulative Score   0.0% || Character_accuracy - Train(cumulative):  24.0%   Test:  26.5% \n",
            "Iteration: 700 || Cross Entropy loss- Train: 1.674 Test: 1.422 || Batch Score- Train:   0.0% Test:   0.0% || Cumulative Score   0.0% || Character_accuracy - Train(cumulative):  24.2%   Test:  29.7% \n",
            "Iteration: 720 || Cross Entropy loss- Train: 1.624 Test: 1.448 || Batch Score- Train:   0.0% Test:   0.0% || Cumulative Score   0.0% || Character_accuracy - Train(cumulative):  24.4%   Test:  27.0% \n",
            "Iteration: 740 || Cross Entropy loss- Train: 1.510 Test: 1.592 || Batch Score- Train:   0.0% Test:   0.0% || Cumulative Score   0.0% || Character_accuracy - Train(cumulative):  24.6%   Test:  26.1% \n",
            "Iteration: 760 || Cross Entropy loss- Train: 1.583 Test: 1.390 || Batch Score- Train:   0.0% Test:   0.0% || Cumulative Score   0.0% || Character_accuracy - Train(cumulative):  24.7%   Test:  34.0% \n",
            "Iteration: 780 || Cross Entropy loss- Train: 1.629 Test: 1.444 || Batch Score- Train:   0.0% Test:   0.0% || Cumulative Score   0.0% || Character_accuracy - Train(cumulative):  24.9%   Test:  29.6% \n",
            "Iteration: 800 || Cross Entropy loss- Train: 1.334 Test: 1.775 || Batch Score- Train:   0.0% Test:   0.0% || Cumulative Score   0.0% || Character_accuracy - Train(cumulative):  25.0%   Test:  27.8% \n",
            "Iteration: 820 || Cross Entropy loss- Train: 1.466 Test: 1.398 || Batch Score- Train:   0.0% Test:   0.0% || Cumulative Score   0.0% || Character_accuracy - Train(cumulative):  25.2%   Test:  34.9% \n",
            "Iteration: 840 || Cross Entropy loss- Train: 1.480 Test: 1.559 || Batch Score- Train:   0.0% Test:   0.0% || Cumulative Score   0.0% || Character_accuracy - Train(cumulative):  25.3%   Test:  28.6% \n",
            "Iteration: 860 || Cross Entropy loss- Train: 1.379 Test: 1.518 || Batch Score- Train:   0.0% Test:   0.0% || Cumulative Score   0.0% || Character_accuracy - Train(cumulative):  25.4%   Test:  27.8% \n",
            "Iteration: 880 || Cross Entropy loss- Train: 1.385 Test: 1.252 || Batch Score- Train:   0.0% Test:   0.0% || Cumulative Score   0.0% || Character_accuracy - Train(cumulative):  25.6%   Test:  35.1% \n",
            "Iteration: 900 || Cross Entropy loss- Train: 1.595 Test: 1.324 || Batch Score- Train:   0.0% Test:   0.0% || Cumulative Score   0.0% || Character_accuracy - Train(cumulative):  25.7%   Test:  31.2% \n",
            "Iteration: 920 || Cross Entropy loss- Train: 1.319 Test: 1.513 || Batch Score- Train:   0.0% Test:   0.0% || Cumulative Score   0.0% || Character_accuracy - Train(cumulative):  25.8%   Test:  29.4% \n",
            "Iteration: 940 || Cross Entropy loss- Train: 1.484 Test: 1.268 || Batch Score- Train:   0.0% Test:   0.0% || Cumulative Score   0.0% || Character_accuracy - Train(cumulative):  25.9%   Test:  34.9% \n",
            "Iteration: 960 || Cross Entropy loss- Train: 1.538 Test: 1.460 || Batch Score- Train:   0.0% Test:   0.0% || Cumulative Score   0.0% || Character_accuracy - Train(cumulative):  26.0%   Test:  32.1% \n",
            "Iteration: 980 || Cross Entropy loss- Train: 1.657 Test: 1.589 || Batch Score- Train:   0.0% Test:   0.0% || Cumulative Score   0.0% || Character_accuracy - Train(cumulative):  26.1%   Test:  27.6% \n",
            "Iteration:1000 || Cross Entropy loss- Train: 1.434 Test: 1.442 || Batch Score- Train:   0.0% Test:   0.0% || Cumulative Score   0.0% || Character_accuracy - Train(cumulative):  26.2%   Test:  37.0% \n",
            "Iteration:1020 || Cross Entropy loss- Train: 1.162 Test: 1.440 || Batch Score- Train:   0.0% Test:   0.0% || Cumulative Score   0.0% || Character_accuracy - Train(cumulative):  26.3%   Test:  34.3% \n",
            "----------------------------------------------------------------------------------------------------------------------------------------------------------------\n",
            "The model with current paramters is not converging in first 1000 iterations: \n",
            "tensor(1.4288, grad_fn=<DivBackward0>)\n",
            "----------------------------------------------------------------------------------------------------------------------------------------------------------------\n",
            "Printing Model\n",
            "CharLSTM(\n",
            "  (encoder): Embedding(27, 27, padding_idx=0)\n",
            "  (lstm): LSTM(27, 16, batch_first=True)\n",
            "  (decoder): Linear(in_features=16, out_features=27, bias=True)\n",
            ")\n",
            "----------------------------------------------------------------------------------------------------------------------------------------------------------------\n",
            "Number of Paramters: \n",
            "4068\n",
            "----------------------------------------------------------------------------------------------------------------------------------------------------------------\n",
            "torch.Size([27, 27])\n",
            "torch.Size([64, 27])\n",
            "torch.Size([64, 16])\n",
            "torch.Size([64])\n",
            "torch.Size([64])\n",
            "torch.Size([27, 16])\n",
            "torch.Size([27])\n",
            "----------------------------------------------------------------------------------------------------------------------------------------------------------------\n",
            "Iteration:   0 || Cross Entropy loss- Train: 2.511 Test: 2.667 || Batch Score- Train:   0.0% Test:   0.0% || Cumulative Score   0.0% || Character_accuracy - Train(cumulative):   3.4%   Test:   1.9% \n",
            "Iteration:  20 || Cross Entropy loss- Train: 2.434 Test: 2.462 || Batch Score- Train:   0.0% Test:   0.0% || Cumulative Score   0.0% || Character_accuracy - Train(cumulative):  11.9%   Test:  14.6% \n",
            "Iteration:  40 || Cross Entropy loss- Train: 2.321 Test: 2.401 || Batch Score- Train:   0.0% Test:   0.0% || Cumulative Score   0.0% || Character_accuracy - Train(cumulative):  13.1%   Test:  12.8% \n",
            "Iteration:  60 || Cross Entropy loss- Train: 2.047 Test: 2.145 || Batch Score- Train:   0.0% Test:   0.0% || Cumulative Score   0.0% || Character_accuracy - Train(cumulative):  13.6%   Test:  18.3% \n",
            "Iteration:  80 || Cross Entropy loss- Train: 2.063 Test: 1.990 || Batch Score- Train:   0.0% Test:   0.0% || Cumulative Score   0.0% || Character_accuracy - Train(cumulative):  14.9%   Test:  25.0% \n",
            "Iteration: 100 || Cross Entropy loss- Train: 1.977 Test: 1.999 || Batch Score- Train:   0.0% Test:   0.0% || Cumulative Score   0.0% || Character_accuracy - Train(cumulative):  16.3%   Test:  24.6% \n",
            "Iteration: 120 || Cross Entropy loss- Train: 1.898 Test: 1.773 || Batch Score- Train:   0.0% Test:   0.0% || Cumulative Score   0.0% || Character_accuracy - Train(cumulative):  17.3%   Test:  28.1% \n",
            "Iteration: 140 || Cross Entropy loss- Train: 1.790 Test: 1.825 || Batch Score- Train:   0.0% Test:   0.0% || Cumulative Score   0.0% || Character_accuracy - Train(cumulative):  18.1%   Test:  23.1% \n",
            "Iteration: 160 || Cross Entropy loss- Train: 1.744 Test: 1.517 || Batch Score- Train:   0.0% Test:   0.0% || Cumulative Score   0.0% || Character_accuracy - Train(cumulative):  18.9%   Test:  27.3% \n",
            "Iteration: 180 || Cross Entropy loss- Train: 1.708 Test: 1.635 || Batch Score- Train:   0.0% Test:   0.0% || Cumulative Score   0.0% || Character_accuracy - Train(cumulative):  19.5%   Test:  22.6% \n",
            "Iteration: 200 || Cross Entropy loss- Train: 1.825 Test: 1.645 || Batch Score- Train:   0.0% Test:   0.0% || Cumulative Score   0.0% || Character_accuracy - Train(cumulative):  20.3%   Test:  25.0% \n",
            "Iteration: 220 || Cross Entropy loss- Train: 1.465 Test: 1.651 || Batch Score- Train:   0.0% Test:   0.0% || Cumulative Score   0.0% || Character_accuracy - Train(cumulative):  21.0%   Test:  24.8% \n",
            "Iteration: 240 || Cross Entropy loss- Train: 1.543 Test: 1.620 || Batch Score- Train:   0.0% Test:   0.0% || Cumulative Score   0.0% || Character_accuracy - Train(cumulative):  21.6%   Test:  27.9% \n",
            "Iteration: 260 || Cross Entropy loss- Train: 1.550 Test: 1.664 || Batch Score- Train:   0.0% Test:   0.0% || Cumulative Score   0.0% || Character_accuracy - Train(cumulative):  22.2%   Test:  26.5% \n",
            "Iteration: 280 || Cross Entropy loss- Train: 1.414 Test: 1.608 || Batch Score- Train:   0.0% Test:   0.0% || Cumulative Score   0.0% || Character_accuracy - Train(cumulative):  22.7%   Test:  28.2% \n",
            "Iteration: 300 || Cross Entropy loss- Train: 1.640 Test: 1.517 || Batch Score- Train:   0.0% Test:   0.0% || Cumulative Score   0.0% || Character_accuracy - Train(cumulative):  23.1%   Test:  28.8% \n",
            "Iteration: 320 || Cross Entropy loss- Train: 1.652 Test: 1.358 || Batch Score- Train:   0.0% Test:   0.0% || Cumulative Score   0.0% || Character_accuracy - Train(cumulative):  23.6%   Test:  33.4% \n",
            "Iteration: 340 || Cross Entropy loss- Train: 1.446 Test: 1.495 || Batch Score- Train:   0.0% Test:   0.0% || Cumulative Score   0.0% || Character_accuracy - Train(cumulative):  24.1%   Test:  27.7% \n",
            "Iteration: 360 || Cross Entropy loss- Train: 1.648 Test: 1.354 || Batch Score- Train:   0.0% Test:   0.0% || Cumulative Score   0.0% || Character_accuracy - Train(cumulative):  24.5%   Test:  32.6% \n",
            "Iteration: 380 || Cross Entropy loss- Train: 1.404 Test: 1.494 || Batch Score- Train:   0.0% Test:   0.0% || Cumulative Score   0.0% || Character_accuracy - Train(cumulative):  24.8%   Test:  31.4% \n",
            "Iteration: 400 || Cross Entropy loss- Train: 1.253 Test: 1.580 || Batch Score- Train:   0.0% Test:   0.0% || Cumulative Score   0.0% || Character_accuracy - Train(cumulative):  25.2%   Test:  32.5% \n",
            "Iteration: 420 || Cross Entropy loss- Train: 1.219 Test: 1.529 || Batch Score- Train:   0.0% Test:   0.0% || Cumulative Score   0.0% || Character_accuracy - Train(cumulative):  25.5%   Test:  30.5% \n",
            "Iteration: 440 || Cross Entropy loss- Train: 1.345 Test: 1.493 || Batch Score- Train:   0.0% Test:   0.0% || Cumulative Score   0.0% || Character_accuracy - Train(cumulative):  25.8%   Test:  32.3% \n",
            "Iteration: 460 || Cross Entropy loss- Train: 1.442 Test: 1.339 || Batch Score- Train:   0.0% Test:   0.0% || Cumulative Score   0.0% || Character_accuracy - Train(cumulative):  26.2%   Test:  30.3% \n",
            "Iteration: 480 || Cross Entropy loss- Train: 1.383 Test: 1.423 || Batch Score- Train:   0.0% Test:   0.0% || Cumulative Score   0.0% || Character_accuracy - Train(cumulative):  26.4%   Test:  34.5% \n",
            "Iteration: 500 || Cross Entropy loss- Train: 1.433 Test: 1.507 || Batch Score- Train:   0.0% Test:   0.0% || Cumulative Score   0.0% || Character_accuracy - Train(cumulative):  26.7%   Test:  32.1% \n",
            "Iteration: 520 || Cross Entropy loss- Train: 1.326 Test: 1.215 || Batch Score- Train:   0.0% Test:   0.0% || Cumulative Score   0.0% || Character_accuracy - Train(cumulative):  27.0%   Test:  35.9% \n",
            "Iteration: 540 || Cross Entropy loss- Train: 1.328 Test: 1.377 || Batch Score- Train:   0.0% Test:   0.0% || Cumulative Score   0.0% || Character_accuracy - Train(cumulative):  27.2%   Test:  35.9% \n",
            "Iteration: 560 || Cross Entropy loss- Train: 1.325 Test: 1.241 || Batch Score- Train:   0.0% Test:   0.0% || Cumulative Score   0.0% || Character_accuracy - Train(cumulative):  27.4%   Test:  31.5% \n",
            "Iteration: 580 || Cross Entropy loss- Train: 1.368 Test: 1.382 || Batch Score- Train:   0.0% Test:   0.0% || Cumulative Score   0.0% || Character_accuracy - Train(cumulative):  27.6%   Test:  30.2% \n",
            "Iteration: 600 || Cross Entropy loss- Train: 1.273 Test: 1.282 || Batch Score- Train:   0.0% Test:   0.0% || Cumulative Score   0.0% || Character_accuracy - Train(cumulative):  27.8%   Test:  32.8% \n",
            "Iteration: 620 || Cross Entropy loss- Train: 1.352 Test: 1.362 || Batch Score- Train:   0.0% Test:   0.0% || Cumulative Score   0.0% || Character_accuracy - Train(cumulative):  28.0%   Test:  28.0% \n",
            "Iteration: 640 || Cross Entropy loss- Train: 1.424 Test: 1.285 || Batch Score- Train:   0.0% Test:   0.0% || Cumulative Score   0.0% || Character_accuracy - Train(cumulative):  28.3%   Test:  37.9% \n",
            "Iteration: 660 || Cross Entropy loss- Train: 1.162 Test: 1.381 || Batch Score- Train:   0.0% Test:   0.0% || Cumulative Score   0.0% || Character_accuracy - Train(cumulative):  28.5%   Test:  33.2% \n",
            "Iteration: 680 || Cross Entropy loss- Train: 1.281 Test: 1.280 || Batch Score- Train:   0.0% Test:   0.0% || Cumulative Score   0.0% || Character_accuracy - Train(cumulative):  28.7%   Test:  32.5% \n",
            "Iteration: 700 || Cross Entropy loss- Train: 1.179 Test: 1.236 || Batch Score- Train:   0.0% Test:   0.0% || Cumulative Score   0.0% || Character_accuracy - Train(cumulative):  28.9%   Test:  39.5% \n",
            "Iteration: 720 || Cross Entropy loss- Train: 1.304 Test: 1.432 || Batch Score- Train:   0.0% Test:   0.0% || Cumulative Score   0.0% || Character_accuracy - Train(cumulative):  29.1%   Test:  30.7% \n",
            "Iteration: 740 || Cross Entropy loss- Train: 1.230 Test: 1.253 || Batch Score- Train:   0.0% Test:   0.0% || Cumulative Score   0.0% || Character_accuracy - Train(cumulative):  29.3%   Test:  34.9% \n",
            "Iteration: 760 || Cross Entropy loss- Train: 1.101 Test: 1.385 || Batch Score- Train:   0.0% Test:   0.0% || Cumulative Score   0.0% || Character_accuracy - Train(cumulative):  29.5%   Test:  33.9% \n",
            "Iteration: 780 || Cross Entropy loss- Train: 1.522 Test: 1.192 || Batch Score- Train:   0.0% Test:   0.0% || Cumulative Score   0.0% || Character_accuracy - Train(cumulative):  29.6%   Test:  39.0% \n",
            "Iteration: 800 || Cross Entropy loss- Train: 1.375 Test: 1.308 || Batch Score- Train:   0.0% Test:   0.0% || Cumulative Score   0.0% || Character_accuracy - Train(cumulative):  29.8%   Test:  37.1% \n",
            "Iteration: 820 || Cross Entropy loss- Train: 1.178 Test: 1.333 || Batch Score- Train:   0.0% Test:   0.0% || Cumulative Score   0.0% || Character_accuracy - Train(cumulative):  30.0%   Test:  36.1% \n",
            "Iteration: 840 || Cross Entropy loss- Train: 1.200 Test: 1.164 || Batch Score- Train:   0.0% Test:   0.0% || Cumulative Score   0.0% || Character_accuracy - Train(cumulative):  30.1%   Test:  40.9% \n",
            "Iteration: 860 || Cross Entropy loss- Train: 1.188 Test: 1.338 || Batch Score- Train:   0.0% Test:   0.0% || Cumulative Score   0.0% || Character_accuracy - Train(cumulative):  30.3%   Test:  40.1% \n",
            "Iteration: 880 || Cross Entropy loss- Train: 1.302 Test: 1.230 || Batch Score- Train:   0.0% Test:   0.0% || Cumulative Score   0.0% || Character_accuracy - Train(cumulative):  30.5%   Test:  38.2% \n",
            "Iteration: 900 || Cross Entropy loss- Train: 1.134 Test: 1.215 || Batch Score- Train:   0.0% Test:   0.0% || Cumulative Score   0.0% || Character_accuracy - Train(cumulative):  30.6%   Test:  35.2% \n",
            "Iteration: 920 || Cross Entropy loss- Train: 1.177 Test: 1.127 || Batch Score- Train:   0.0% Test:   0.0% || Cumulative Score   0.0% || Character_accuracy - Train(cumulative):  30.8%   Test:  37.9% \n",
            "Iteration: 940 || Cross Entropy loss- Train: 1.084 Test: 1.125 || Batch Score- Train:   0.0% Test:   0.0% || Cumulative Score   0.0% || Character_accuracy - Train(cumulative):  30.9%   Test:  41.9% \n",
            "Iteration: 960 || Cross Entropy loss- Train: 1.167 Test: 1.262 || Batch Score- Train:   0.0% Test:   0.0% || Cumulative Score   0.0% || Character_accuracy - Train(cumulative):  31.1%   Test:  34.6% \n",
            "Iteration: 980 || Cross Entropy loss- Train: 1.177 Test: 1.316 || Batch Score- Train:   0.0% Test:   0.0% || Cumulative Score   0.0% || Character_accuracy - Train(cumulative):  31.3%   Test:  37.6% \n",
            "Iteration:1000 || Cross Entropy loss- Train: 1.233 Test: 1.231 || Batch Score- Train:   0.0% Test:   0.0% || Cumulative Score   0.0% || Character_accuracy - Train(cumulative):  31.4%   Test:  38.0% \n",
            "Iteration:1020 || Cross Entropy loss- Train: 1.111 Test: 1.061 || Batch Score- Train:   0.0% Test:   0.0% || Cumulative Score   0.0% || Character_accuracy - Train(cumulative):  31.6%   Test:  40.9% \n",
            "Iteration:1040 || Cross Entropy loss- Train: 1.197 Test: 1.222 || Batch Score- Train:   0.0% Test:   0.0% || Cumulative Score   0.0% || Character_accuracy - Train(cumulative):  31.8%   Test:  44.1% \n",
            "Iteration:1060 || Cross Entropy loss- Train: 1.169 Test: 1.089 || Batch Score- Train:   0.0% Test:   0.0% || Cumulative Score   0.0% || Character_accuracy - Train(cumulative):  31.9%   Test:  45.0% \n",
            "Iteration:1080 || Cross Entropy loss- Train: 1.133 Test: 1.175 || Batch Score- Train:   0.0% Test:   0.0% || Cumulative Score   0.0% || Character_accuracy - Train(cumulative):  32.1%   Test:  43.5% \n",
            "Iteration:1100 || Cross Entropy loss- Train: 1.225 Test: 1.110 || Batch Score- Train:   0.0% Test:   0.0% || Cumulative Score   0.0% || Character_accuracy - Train(cumulative):  32.3%   Test:  46.8% \n",
            "Iteration:1120 || Cross Entropy loss- Train: 1.103 Test: 1.242 || Batch Score- Train:   0.0% Test:   0.0% || Cumulative Score   0.0% || Character_accuracy - Train(cumulative):  32.4%   Test:  39.8% \n",
            "Iteration:1140 || Cross Entropy loss- Train: 1.302 Test: 1.206 || Batch Score- Train:   0.0% Test:   0.0% || Cumulative Score   0.0% || Character_accuracy - Train(cumulative):  32.6%   Test:  42.0% \n",
            "Iteration:1160 || Cross Entropy loss- Train: 1.109 Test: 1.199 || Batch Score- Train:   0.0% Test:   0.0% || Cumulative Score   0.0% || Character_accuracy - Train(cumulative):  32.8%   Test:  41.1% \n",
            "Iteration:1180 || Cross Entropy loss- Train: 1.305 Test: 1.326 || Batch Score- Train:   0.0% Test:   0.0% || Cumulative Score   0.0% || Character_accuracy - Train(cumulative):  32.9%   Test:  40.4% \n",
            "Iteration:1200 || Cross Entropy loss- Train: 1.104 Test: 1.008 || Batch Score- Train:   0.0% Test:   0.0% || Cumulative Score   0.0% || Character_accuracy - Train(cumulative):  33.1%   Test:  44.1% \n",
            "Iteration:1220 || Cross Entropy loss- Train: 1.095 Test: 1.084 || Batch Score- Train:   0.0% Test:   0.0% || Cumulative Score   0.0% || Character_accuracy - Train(cumulative):  33.3%   Test:  45.9% \n",
            "Iteration:1240 || Cross Entropy loss- Train: 1.063 Test: 1.082 || Batch Score- Train:   0.0% Test:   0.0% || Cumulative Score   0.0% || Character_accuracy - Train(cumulative):  33.5%   Test:  48.9% \n",
            "Iteration:1260 || Cross Entropy loss- Train: 1.166 Test: 1.026 || Batch Score- Train:   0.0% Test:   0.0% || Cumulative Score   0.0% || Character_accuracy - Train(cumulative):  33.6%   Test:  44.9% \n",
            "Iteration:1280 || Cross Entropy loss- Train: 1.069 Test: 1.002 || Batch Score- Train:   6.2% Test:   6.2% || Cumulative Score   0.0% || Character_accuracy - Train(cumulative):  33.8%   Test:  49.4% \n",
            "Iteration:1300 || Cross Entropy loss- Train: 1.252 Test: 1.171 || Batch Score- Train:   0.0% Test:   0.0% || Cumulative Score   0.0% || Character_accuracy - Train(cumulative):  34.0%   Test:  43.5% \n",
            "Iteration:1320 || Cross Entropy loss- Train: 1.055 Test: 1.194 || Batch Score- Train:   0.0% Test:   0.0% || Cumulative Score   0.0% || Character_accuracy - Train(cumulative):  34.1%   Test:  39.9% \n",
            "Iteration:1340 || Cross Entropy loss- Train: 1.049 Test: 1.274 || Batch Score- Train:   6.2% Test:   6.2% || Cumulative Score   0.0% || Character_accuracy - Train(cumulative):  34.3%   Test:  43.1% \n",
            "Iteration:1360 || Cross Entropy loss- Train: 1.191 Test: 1.181 || Batch Score- Train:   0.0% Test:   0.0% || Cumulative Score   0.0% || Character_accuracy - Train(cumulative):  34.4%   Test:  44.1% \n",
            "Iteration:1380 || Cross Entropy loss- Train: 1.093 Test: 1.092 || Batch Score- Train:   0.0% Test:   0.0% || Cumulative Score   0.0% || Character_accuracy - Train(cumulative):  34.6%   Test:  44.7% \n",
            "Iteration:1400 || Cross Entropy loss- Train: 1.095 Test: 1.097 || Batch Score- Train:   0.0% Test:   0.0% || Cumulative Score   0.0% || Character_accuracy - Train(cumulative):  34.7%   Test:  44.2% \n",
            "Iteration:1420 || Cross Entropy loss- Train: 1.108 Test: 0.991 || Batch Score- Train:   0.0% Test:   0.0% || Cumulative Score   0.1% || Character_accuracy - Train(cumulative):  34.9%   Test:  45.4% \n",
            "Iteration:1440 || Cross Entropy loss- Train: 1.032 Test: 1.065 || Batch Score- Train:   0.0% Test:   0.0% || Cumulative Score   0.1% || Character_accuracy - Train(cumulative):  35.0%   Test:  49.3% \n",
            "Iteration:1460 || Cross Entropy loss- Train: 1.102 Test: 1.193 || Batch Score- Train:   0.0% Test:   0.0% || Cumulative Score   0.1% || Character_accuracy - Train(cumulative):  35.2%   Test:  41.8% \n",
            "Iteration:1480 || Cross Entropy loss- Train: 1.169 Test: 1.028 || Batch Score- Train:   0.0% Test:   0.0% || Cumulative Score   0.1% || Character_accuracy - Train(cumulative):  35.3%   Test:  48.7% \n",
            "Iteration:1500 || Cross Entropy loss- Train: 1.076 Test: 1.241 || Batch Score- Train:   0.0% Test:   0.0% || Cumulative Score   0.1% || Character_accuracy - Train(cumulative):  35.5%   Test:  44.7% \n",
            "Iteration:1520 || Cross Entropy loss- Train: 1.134 Test: 1.034 || Batch Score- Train:   0.0% Test:   0.0% || Cumulative Score   0.1% || Character_accuracy - Train(cumulative):  35.6%   Test:  45.3% \n",
            "Iteration:1540 || Cross Entropy loss- Train: 0.916 Test: 1.136 || Batch Score- Train:   0.0% Test:   0.0% || Cumulative Score   0.1% || Character_accuracy - Train(cumulative):  35.7%   Test:  48.1% \n",
            "Iteration:1560 || Cross Entropy loss- Train: 1.030 Test: 1.005 || Batch Score- Train:   0.0% Test:   0.0% || Cumulative Score   0.1% || Character_accuracy - Train(cumulative):  35.9%   Test:  46.0% \n",
            "Iteration:1580 || Cross Entropy loss- Train: 1.202 Test: 1.099 || Batch Score- Train:   6.2% Test:   0.0% || Cumulative Score   0.1% || Character_accuracy - Train(cumulative):  36.0%   Test:  53.0% \n",
            "Iteration:1600 || Cross Entropy loss- Train: 1.168 Test: 1.152 || Batch Score- Train:   0.0% Test:   6.2% || Cumulative Score   0.1% || Character_accuracy - Train(cumulative):  36.2%   Test:  44.4% \n",
            "Iteration:1620 || Cross Entropy loss- Train: 1.080 Test: 1.041 || Batch Score- Train:   0.0% Test:   0.0% || Cumulative Score   0.1% || Character_accuracy - Train(cumulative):  36.3%   Test:  47.2% \n",
            "Iteration:1640 || Cross Entropy loss- Train: 0.917 Test: 1.111 || Batch Score- Train:   0.0% Test:   0.0% || Cumulative Score   0.1% || Character_accuracy - Train(cumulative):  36.5%   Test:  41.0% \n",
            "Iteration:1660 || Cross Entropy loss- Train: 0.926 Test: 0.975 || Batch Score- Train:   0.0% Test:   0.0% || Cumulative Score   0.1% || Character_accuracy - Train(cumulative):  36.6%   Test:  51.4% \n",
            "Iteration:1680 || Cross Entropy loss- Train: 1.156 Test: 1.059 || Batch Score- Train:   0.0% Test:   0.0% || Cumulative Score   0.1% || Character_accuracy - Train(cumulative):  36.8%   Test:  48.1% \n",
            "Iteration:1700 || Cross Entropy loss- Train: 1.148 Test: 1.045 || Batch Score- Train:   0.0% Test:   0.0% || Cumulative Score   0.1% || Character_accuracy - Train(cumulative):  36.9%   Test:  50.1% \n",
            "Iteration:1720 || Cross Entropy loss- Train: 0.893 Test: 1.078 || Batch Score- Train:   0.0% Test:   0.0% || Cumulative Score   0.1% || Character_accuracy - Train(cumulative):  37.0%   Test:  49.4% \n",
            "Iteration:1740 || Cross Entropy loss- Train: 1.026 Test: 1.093 || Batch Score- Train:   0.0% Test:   0.0% || Cumulative Score   0.1% || Character_accuracy - Train(cumulative):  37.2%   Test:  47.3% \n",
            "Iteration:1760 || Cross Entropy loss- Train: 0.982 Test: 1.065 || Batch Score- Train:   0.0% Test:   0.0% || Cumulative Score   0.1% || Character_accuracy - Train(cumulative):  37.3%   Test:  44.4% \n",
            "Iteration:1780 || Cross Entropy loss- Train: 1.124 Test: 1.167 || Batch Score- Train:   0.0% Test:   0.0% || Cumulative Score   0.1% || Character_accuracy - Train(cumulative):  37.4%   Test:  46.0% \n",
            "Iteration:1800 || Cross Entropy loss- Train: 0.919 Test: 1.131 || Batch Score- Train:   0.0% Test:   0.0% || Cumulative Score   0.1% || Character_accuracy - Train(cumulative):  37.6%   Test:  47.0% \n",
            "Iteration:1820 || Cross Entropy loss- Train: 1.089 Test: 1.006 || Batch Score- Train:   0.0% Test:   0.0% || Cumulative Score   0.1% || Character_accuracy - Train(cumulative):  37.7%   Test:  49.1% \n",
            "Iteration:1840 || Cross Entropy loss- Train: 1.107 Test: 1.095 || Batch Score- Train:   0.0% Test:   0.0% || Cumulative Score   0.1% || Character_accuracy - Train(cumulative):  37.8%   Test:  48.3% \n",
            "Iteration:1860 || Cross Entropy loss- Train: 0.904 Test: 0.998 || Batch Score- Train:   6.2% Test:   0.0% || Cumulative Score   0.1% || Character_accuracy - Train(cumulative):  38.0%   Test:  46.2% \n",
            "Iteration:1880 || Cross Entropy loss- Train: 1.037 Test: 1.040 || Batch Score- Train:   6.2% Test:   0.0% || Cumulative Score   0.1% || Character_accuracy - Train(cumulative):  38.1%   Test:  47.5% \n",
            "Iteration:1900 || Cross Entropy loss- Train: 0.933 Test: 1.190 || Batch Score- Train:   0.0% Test:   0.0% || Cumulative Score   0.2% || Character_accuracy - Train(cumulative):  38.2%   Test:  47.5% \n",
            "Iteration:1920 || Cross Entropy loss- Train: 0.928 Test: 1.014 || Batch Score- Train:   0.0% Test:   0.0% || Cumulative Score   0.2% || Character_accuracy - Train(cumulative):  38.3%   Test:  47.7% \n",
            "Iteration:1940 || Cross Entropy loss- Train: 0.997 Test: 0.985 || Batch Score- Train:   6.2% Test:   6.2% || Cumulative Score   0.2% || Character_accuracy - Train(cumulative):  38.5%   Test:  51.0% \n",
            "Iteration:1960 || Cross Entropy loss- Train: 0.960 Test: 1.064 || Batch Score- Train:   0.0% Test:   0.0% || Cumulative Score   0.2% || Character_accuracy - Train(cumulative):  38.6%   Test:  46.5% \n",
            "Iteration:1980 || Cross Entropy loss- Train: 1.148 Test: 1.075 || Batch Score- Train:   0.0% Test:   0.0% || Cumulative Score   0.2% || Character_accuracy - Train(cumulative):  38.7%   Test:  48.6% \n",
            "Iteration:2000 || Cross Entropy loss- Train: 0.820 Test: 1.053 || Batch Score- Train:   0.0% Test:   0.0% || Cumulative Score   0.2% || Character_accuracy - Train(cumulative):  38.8%   Test:  46.6% \n",
            "Iteration:2020 || Cross Entropy loss- Train: 0.965 Test: 0.903 || Batch Score- Train:   0.0% Test:   0.0% || Cumulative Score   0.2% || Character_accuracy - Train(cumulative):  38.9%   Test:  53.0% \n",
            "Iteration:2040 || Cross Entropy loss- Train: 1.176 Test: 1.001 || Batch Score- Train:   0.0% Test:   0.0% || Cumulative Score   0.2% || Character_accuracy - Train(cumulative):  39.1%   Test:  50.6% \n",
            "Iteration:2060 || Cross Entropy loss- Train: 1.049 Test: 0.716 || Batch Score- Train:   0.0% Test:   0.0% || Cumulative Score   0.2% || Character_accuracy - Train(cumulative):  39.2%   Test:  58.9% \n",
            "Iteration:2080 || Cross Entropy loss- Train: 0.908 Test: 1.084 || Batch Score- Train:   0.0% Test:   0.0% || Cumulative Score   0.2% || Character_accuracy - Train(cumulative):  39.3%   Test:  50.5% \n",
            "Iteration:2100 || Cross Entropy loss- Train: 1.049 Test: 0.994 || Batch Score- Train:   0.0% Test:   0.0% || Cumulative Score   0.2% || Character_accuracy - Train(cumulative):  39.4%   Test:  54.0% \n",
            "Iteration:2120 || Cross Entropy loss- Train: 1.091 Test: 0.993 || Batch Score- Train:   0.0% Test:   0.0% || Cumulative Score   0.3% || Character_accuracy - Train(cumulative):  39.5%   Test:  53.8% \n",
            "Iteration:2140 || Cross Entropy loss- Train: 1.029 Test: 0.986 || Batch Score- Train:   6.2% Test:   6.2% || Cumulative Score   0.3% || Character_accuracy - Train(cumulative):  39.6%   Test:  51.8% \n",
            "Iteration:2160 || Cross Entropy loss- Train: 1.009 Test: 1.114 || Batch Score- Train:   0.0% Test:   0.0% || Cumulative Score   0.3% || Character_accuracy - Train(cumulative):  39.7%   Test:  47.7% \n",
            "Iteration:2180 || Cross Entropy loss- Train: 0.992 Test: 0.940 || Batch Score- Train:   0.0% Test:   0.0% || Cumulative Score   0.3% || Character_accuracy - Train(cumulative):  39.8%   Test:  51.8% \n",
            "Iteration:2200 || Cross Entropy loss- Train: 1.150 Test: 1.068 || Batch Score- Train:   0.0% Test:   0.0% || Cumulative Score   0.3% || Character_accuracy - Train(cumulative):  40.0%   Test:  50.2% \n",
            "Iteration:2220 || Cross Entropy loss- Train: 1.121 Test: 1.061 || Batch Score- Train:   0.0% Test:   0.0% || Cumulative Score   0.3% || Character_accuracy - Train(cumulative):  40.1%   Test:  52.4% \n",
            "Iteration:2240 || Cross Entropy loss- Train: 0.777 Test: 0.857 || Batch Score- Train:   0.0% Test:   0.0% || Cumulative Score   0.3% || Character_accuracy - Train(cumulative):  40.2%   Test:  55.8% \n",
            "Iteration:2260 || Cross Entropy loss- Train: 0.960 Test: 0.931 || Batch Score- Train:   0.0% Test:   0.0% || Cumulative Score   0.4% || Character_accuracy - Train(cumulative):  40.3%   Test:  52.6% \n",
            "Iteration:2280 || Cross Entropy loss- Train: 0.888 Test: 1.113 || Batch Score- Train:  18.8% Test:   0.0% || Cumulative Score   0.4% || Character_accuracy - Train(cumulative):  40.4%   Test:  51.2% \n",
            "Iteration:2300 || Cross Entropy loss- Train: 1.037 Test: 1.000 || Batch Score- Train:   0.0% Test:   0.0% || Cumulative Score   0.4% || Character_accuracy - Train(cumulative):  40.5%   Test:  50.2% \n",
            "Iteration:2320 || Cross Entropy loss- Train: 0.929 Test: 0.921 || Batch Score- Train:   0.0% Test:   0.0% || Cumulative Score   0.4% || Character_accuracy - Train(cumulative):  40.6%   Test:  52.8% \n",
            "Iteration:2340 || Cross Entropy loss- Train: 1.031 Test: 0.933 || Batch Score- Train:   0.0% Test:   0.0% || Cumulative Score   0.4% || Character_accuracy - Train(cumulative):  40.7%   Test:  54.2% \n",
            "Iteration:2360 || Cross Entropy loss- Train: 0.844 Test: 1.125 || Batch Score- Train:   6.2% Test:   0.0% || Cumulative Score   0.4% || Character_accuracy - Train(cumulative):  40.8%   Test:  52.2% \n",
            "Iteration:2380 || Cross Entropy loss- Train: 0.961 Test: 0.876 || Batch Score- Train:   6.2% Test:   0.0% || Cumulative Score   0.5% || Character_accuracy - Train(cumulative):  40.9%   Test:  54.5% \n",
            "Iteration:2400 || Cross Entropy loss- Train: 1.020 Test: 0.997 || Batch Score- Train:   0.0% Test:   6.2% || Cumulative Score   0.5% || Character_accuracy - Train(cumulative):  41.0%   Test:  52.1% \n",
            "Iteration:2420 || Cross Entropy loss- Train: 1.011 Test: 0.867 || Batch Score- Train:   0.0% Test:   0.0% || Cumulative Score   0.5% || Character_accuracy - Train(cumulative):  41.1%   Test:  54.8% \n",
            "Iteration:2440 || Cross Entropy loss- Train: 0.950 Test: 0.953 || Batch Score- Train:   0.0% Test:   0.0% || Cumulative Score   0.5% || Character_accuracy - Train(cumulative):  41.2%   Test:  52.6% \n",
            "Iteration:2460 || Cross Entropy loss- Train: 1.075 Test: 0.881 || Batch Score- Train:   6.2% Test:   0.0% || Cumulative Score   0.5% || Character_accuracy - Train(cumulative):  41.3%   Test:  54.1% \n",
            "Iteration:2480 || Cross Entropy loss- Train: 0.844 Test: 0.949 || Batch Score- Train:   6.2% Test:   0.0% || Cumulative Score   0.5% || Character_accuracy - Train(cumulative):  41.4%   Test:  52.0% \n",
            "Iteration:2500 || Cross Entropy loss- Train: 0.956 Test: 0.907 || Batch Score- Train:   0.0% Test:   0.0% || Cumulative Score   0.6% || Character_accuracy - Train(cumulative):  41.6%   Test:  56.8% \n",
            "Iteration:2520 || Cross Entropy loss- Train: 0.883 Test: 0.971 || Batch Score- Train:   6.2% Test:   0.0% || Cumulative Score   0.6% || Character_accuracy - Train(cumulative):  41.7%   Test:  51.8% \n",
            "Iteration:2540 || Cross Entropy loss- Train: 1.151 Test: 0.999 || Batch Score- Train:   0.0% Test:   6.2% || Cumulative Score   0.6% || Character_accuracy - Train(cumulative):  41.8%   Test:  53.4% \n",
            "Iteration:2560 || Cross Entropy loss- Train: 0.918 Test: 0.910 || Batch Score- Train:   6.2% Test:   6.2% || Cumulative Score   0.6% || Character_accuracy - Train(cumulative):  41.9%   Test:  54.8% \n",
            "Iteration:2580 || Cross Entropy loss- Train: 0.777 Test: 0.879 || Batch Score- Train:   6.2% Test:  12.5% || Cumulative Score   0.6% || Character_accuracy - Train(cumulative):  42.0%   Test:  53.0% \n",
            "Iteration:2600 || Cross Entropy loss- Train: 0.814 Test: 1.008 || Batch Score- Train:   0.0% Test:   0.0% || Cumulative Score   0.6% || Character_accuracy - Train(cumulative):  42.1%   Test:  50.8% \n",
            "Iteration:2620 || Cross Entropy loss- Train: 0.888 Test: 0.966 || Batch Score- Train:   6.2% Test:   0.0% || Cumulative Score   0.7% || Character_accuracy - Train(cumulative):  42.1%   Test:  55.2% \n",
            "Iteration:2640 || Cross Entropy loss- Train: 1.001 Test: 1.126 || Batch Score- Train:   0.0% Test:   0.0% || Cumulative Score   0.7% || Character_accuracy - Train(cumulative):  42.2%   Test:  52.1% \n",
            "Iteration:2660 || Cross Entropy loss- Train: 0.936 Test: 0.761 || Batch Score- Train:  12.5% Test:   6.2% || Cumulative Score   0.7% || Character_accuracy - Train(cumulative):  42.3%   Test:  55.1% \n",
            "Iteration:2680 || Cross Entropy loss- Train: 0.891 Test: 0.947 || Batch Score- Train:   0.0% Test:   0.0% || Cumulative Score   0.7% || Character_accuracy - Train(cumulative):  42.4%   Test:  52.3% \n",
            "Iteration:2700 || Cross Entropy loss- Train: 0.925 Test: 0.863 || Batch Score- Train:   0.0% Test:   6.2% || Cumulative Score   0.7% || Character_accuracy - Train(cumulative):  42.5%   Test:  52.6% \n",
            "Iteration:2720 || Cross Entropy loss- Train: 1.064 Test: 0.951 || Batch Score- Train:   0.0% Test:   6.2% || Cumulative Score   0.8% || Character_accuracy - Train(cumulative):  42.6%   Test:  55.9% \n",
            "Iteration:2740 || Cross Entropy loss- Train: 0.937 Test: 0.802 || Batch Score- Train:   0.0% Test:   6.2% || Cumulative Score   0.8% || Character_accuracy - Train(cumulative):  42.7%   Test:  59.6% \n",
            "Iteration:2760 || Cross Entropy loss- Train: 0.951 Test: 0.851 || Batch Score- Train:   0.0% Test:   6.2% || Cumulative Score   0.8% || Character_accuracy - Train(cumulative):  42.8%   Test:  56.6% \n",
            "Iteration:2780 || Cross Entropy loss- Train: 0.944 Test: 0.923 || Batch Score- Train:   0.0% Test:   0.0% || Cumulative Score   0.8% || Character_accuracy - Train(cumulative):  42.9%   Test:  54.2% \n",
            "Iteration:2800 || Cross Entropy loss- Train: 0.885 Test: 0.911 || Batch Score- Train:   0.0% Test:   0.0% || Cumulative Score   0.8% || Character_accuracy - Train(cumulative):  42.9%   Test:  52.9% \n",
            "Iteration:2820 || Cross Entropy loss- Train: 0.870 Test: 0.816 || Batch Score- Train:   6.2% Test:   6.2% || Cumulative Score   0.8% || Character_accuracy - Train(cumulative):  43.0%   Test:  57.5% \n",
            "Iteration:2840 || Cross Entropy loss- Train: 0.783 Test: 0.822 || Batch Score- Train:   0.0% Test:   6.2% || Cumulative Score   0.9% || Character_accuracy - Train(cumulative):  43.1%   Test:  58.6% \n",
            "Iteration:2860 || Cross Entropy loss- Train: 0.799 Test: 0.996 || Batch Score- Train:  18.8% Test:   0.0% || Cumulative Score   0.9% || Character_accuracy - Train(cumulative):  43.2%   Test:  53.4% \n",
            "Iteration:2880 || Cross Entropy loss- Train: 0.844 Test: 0.767 || Batch Score- Train:   6.2% Test:   0.0% || Cumulative Score   0.9% || Character_accuracy - Train(cumulative):  43.3%   Test:  57.1% \n",
            "Iteration:2900 || Cross Entropy loss- Train: 0.965 Test: 0.843 || Batch Score- Train:   6.2% Test:   6.2% || Cumulative Score   0.9% || Character_accuracy - Train(cumulative):  43.4%   Test:  61.2% \n",
            "Iteration:2920 || Cross Entropy loss- Train: 0.935 Test: 0.853 || Batch Score- Train:   0.0% Test:   6.2% || Cumulative Score   0.9% || Character_accuracy - Train(cumulative):  43.5%   Test:  57.5% \n",
            "Iteration:2940 || Cross Entropy loss- Train: 0.754 Test: 0.645 || Batch Score- Train:   6.2% Test:  18.8% || Cumulative Score   1.0% || Character_accuracy - Train(cumulative):  43.6%   Test:  63.8% \n",
            "Iteration:2960 || Cross Entropy loss- Train: 0.747 Test: 0.964 || Batch Score- Train:   6.2% Test:   0.0% || Cumulative Score   1.0% || Character_accuracy - Train(cumulative):  43.6%   Test:  49.2% \n",
            "Iteration:2980 || Cross Entropy loss- Train: 1.066 Test: 0.919 || Batch Score- Train:   6.2% Test:   6.2% || Cumulative Score   1.0% || Character_accuracy - Train(cumulative):  43.7%   Test:  54.6% \n",
            "Iteration:3000 || Cross Entropy loss- Train: 0.827 Test: 0.964 || Batch Score- Train:   0.0% Test:   6.2% || Cumulative Score   1.0% || Character_accuracy - Train(cumulative):  43.8%   Test:  55.6% \n",
            "Iteration:3020 || Cross Entropy loss- Train: 0.900 Test: 0.875 || Batch Score- Train:   0.0% Test:   6.2% || Cumulative Score   1.0% || Character_accuracy - Train(cumulative):  43.9%   Test:  55.1% \n",
            "Iteration:3040 || Cross Entropy loss- Train: 0.783 Test: 0.792 || Batch Score- Train:   0.0% Test:   6.2% || Cumulative Score   1.1% || Character_accuracy - Train(cumulative):  44.0%   Test:  57.1% \n",
            "Iteration:3060 || Cross Entropy loss- Train: 0.758 Test: 0.941 || Batch Score- Train:   6.2% Test:   6.2% || Cumulative Score   1.1% || Character_accuracy - Train(cumulative):  44.1%   Test:  54.1% \n",
            "Iteration:3080 || Cross Entropy loss- Train: 0.848 Test: 0.959 || Batch Score- Train:  12.5% Test:   6.2% || Cumulative Score   1.1% || Character_accuracy - Train(cumulative):  44.2%   Test:  53.3% \n",
            "Iteration:3100 || Cross Entropy loss- Train: 0.879 Test: 0.969 || Batch Score- Train:   6.2% Test:   6.2% || Cumulative Score   1.1% || Character_accuracy - Train(cumulative):  44.2%   Test:  56.3% \n",
            "Iteration:3120 || Cross Entropy loss- Train: 0.892 Test: 0.855 || Batch Score- Train:  18.8% Test:   0.0% || Cumulative Score   1.1% || Character_accuracy - Train(cumulative):  44.3%   Test:  60.5% \n",
            "Iteration:3140 || Cross Entropy loss- Train: 0.600 Test: 0.917 || Batch Score- Train:   6.2% Test:   0.0% || Cumulative Score   1.2% || Character_accuracy - Train(cumulative):  44.4%   Test:  55.3% \n",
            "Iteration:3160 || Cross Entropy loss- Train: 0.859 Test: 0.920 || Batch Score- Train:  12.5% Test:   6.2% || Cumulative Score   1.2% || Character_accuracy - Train(cumulative):  44.5%   Test:  55.8% \n",
            "Iteration:3180 || Cross Entropy loss- Train: 1.038 Test: 1.005 || Batch Score- Train:   0.0% Test:   0.0% || Cumulative Score   1.2% || Character_accuracy - Train(cumulative):  44.6%   Test:  53.6% \n",
            "Iteration:3200 || Cross Entropy loss- Train: 0.947 Test: 0.898 || Batch Score- Train:   0.0% Test:   6.2% || Cumulative Score   1.2% || Character_accuracy - Train(cumulative):  44.6%   Test:  59.8% \n",
            "Iteration:3220 || Cross Entropy loss- Train: 0.762 Test: 0.912 || Batch Score- Train:   6.2% Test:   6.2% || Cumulative Score   1.2% || Character_accuracy - Train(cumulative):  44.7%   Test:  54.3% \n",
            "Iteration:3240 || Cross Entropy loss- Train: 0.845 Test: 0.934 || Batch Score- Train:   0.0% Test:  25.0% || Cumulative Score   1.3% || Character_accuracy - Train(cumulative):  44.8%   Test:  54.2% \n",
            "Iteration:3260 || Cross Entropy loss- Train: 0.971 Test: 0.902 || Batch Score- Train:   6.2% Test:   0.0% || Cumulative Score   1.3% || Character_accuracy - Train(cumulative):  44.9%   Test:  54.4% \n",
            "Iteration:3280 || Cross Entropy loss- Train: 0.841 Test: 0.654 || Batch Score- Train:   6.2% Test:   0.0% || Cumulative Score   1.3% || Character_accuracy - Train(cumulative):  44.9%   Test:  60.1% \n",
            "Iteration:3300 || Cross Entropy loss- Train: 0.811 Test: 0.861 || Batch Score- Train:   0.0% Test:   0.0% || Cumulative Score   1.3% || Character_accuracy - Train(cumulative):  45.0%   Test:  58.3% \n",
            "Iteration:3320 || Cross Entropy loss- Train: 0.771 Test: 0.780 || Batch Score- Train:   6.2% Test:  12.5% || Cumulative Score   1.3% || Character_accuracy - Train(cumulative):  45.1%   Test:  60.1% \n",
            "Iteration:3340 || Cross Entropy loss- Train: 0.757 Test: 0.744 || Batch Score- Train:   0.0% Test:  12.5% || Cumulative Score   1.3% || Character_accuracy - Train(cumulative):  45.2%   Test:  60.9% \n",
            "Iteration:3360 || Cross Entropy loss- Train: 0.761 Test: 0.938 || Batch Score- Train:   0.0% Test:   0.0% || Cumulative Score   1.4% || Character_accuracy - Train(cumulative):  45.2%   Test:  58.4% \n",
            "Iteration:3380 || Cross Entropy loss- Train: 0.963 Test: 1.043 || Batch Score- Train:   0.0% Test:   0.0% || Cumulative Score   1.4% || Character_accuracy - Train(cumulative):  45.3%   Test:  54.8% \n",
            "Iteration:3400 || Cross Entropy loss- Train: 0.883 Test: 0.841 || Batch Score- Train:   0.0% Test:   6.2% || Cumulative Score   1.4% || Character_accuracy - Train(cumulative):  45.4%   Test:  56.6% \n",
            "Iteration:3420 || Cross Entropy loss- Train: 0.893 Test: 0.781 || Batch Score- Train:   0.0% Test:   0.0% || Cumulative Score   1.4% || Character_accuracy - Train(cumulative):  45.4%   Test:  59.8% \n",
            "Iteration:3440 || Cross Entropy loss- Train: 0.903 Test: 0.802 || Batch Score- Train:   0.0% Test:   6.2% || Cumulative Score   1.4% || Character_accuracy - Train(cumulative):  45.5%   Test:  57.9% \n",
            "Iteration:3460 || Cross Entropy loss- Train: 0.850 Test: 0.746 || Batch Score- Train:   0.0% Test:   6.2% || Cumulative Score   1.4% || Character_accuracy - Train(cumulative):  45.6%   Test:  62.3% \n",
            "Iteration:3480 || Cross Entropy loss- Train: 0.864 Test: 0.610 || Batch Score- Train:  12.5% Test:  18.8% || Cumulative Score   1.4% || Character_accuracy - Train(cumulative):  45.6%   Test:  66.4% \n",
            "Iteration:3500 || Cross Entropy loss- Train: 0.873 Test: 0.859 || Batch Score- Train:   6.2% Test:   6.2% || Cumulative Score   1.5% || Character_accuracy - Train(cumulative):  45.7%   Test:  54.1% \n",
            "Iteration:3520 || Cross Entropy loss- Train: 0.698 Test: 0.822 || Batch Score- Train:  12.5% Test:   6.2% || Cumulative Score   1.5% || Character_accuracy - Train(cumulative):  45.8%   Test:  61.1% \n",
            "Iteration:3540 || Cross Entropy loss- Train: 0.807 Test: 0.776 || Batch Score- Train:   0.0% Test:   0.0% || Cumulative Score   1.5% || Character_accuracy - Train(cumulative):  45.9%   Test:  63.7% \n",
            "Iteration:3560 || Cross Entropy loss- Train: 0.881 Test: 0.754 || Batch Score- Train:   6.2% Test:   6.2% || Cumulative Score   1.6% || Character_accuracy - Train(cumulative):  45.9%   Test:  60.2% \n",
            "Iteration:3580 || Cross Entropy loss- Train: 0.741 Test: 0.797 || Batch Score- Train:  18.8% Test:   6.2% || Cumulative Score   1.6% || Character_accuracy - Train(cumulative):  46.0%   Test:  58.6% \n",
            "Iteration:3600 || Cross Entropy loss- Train: 0.845 Test: 0.735 || Batch Score- Train:  12.5% Test:  18.8% || Cumulative Score   1.6% || Character_accuracy - Train(cumulative):  46.0%   Test:  61.9% \n",
            "Iteration:3620 || Cross Entropy loss- Train: 0.916 Test: 0.837 || Batch Score- Train:   0.0% Test:   6.2% || Cumulative Score   1.6% || Character_accuracy - Train(cumulative):  46.1%   Test:  59.7% \n",
            "Iteration:3640 || Cross Entropy loss- Train: 0.813 Test: 0.875 || Batch Score- Train:   6.2% Test:   6.2% || Cumulative Score   1.6% || Character_accuracy - Train(cumulative):  46.2%   Test:  57.2% \n",
            "Iteration:3660 || Cross Entropy loss- Train: 0.883 Test: 1.039 || Batch Score- Train:   0.0% Test:   6.2% || Cumulative Score   1.7% || Character_accuracy - Train(cumulative):  46.3%   Test:  56.4% \n",
            "Iteration:3680 || Cross Entropy loss- Train: 0.979 Test: 0.773 || Batch Score- Train:   0.0% Test:  12.5% || Cumulative Score   1.7% || Character_accuracy - Train(cumulative):  46.3%   Test:  59.5% \n",
            "Iteration:3700 || Cross Entropy loss- Train: 0.744 Test: 0.562 || Batch Score- Train:  18.8% Test:  25.0% || Cumulative Score   1.7% || Character_accuracy - Train(cumulative):  46.4%   Test:  68.2% \n",
            "Iteration:3720 || Cross Entropy loss- Train: 0.951 Test: 0.839 || Batch Score- Train:   6.2% Test:   6.2% || Cumulative Score   1.7% || Character_accuracy - Train(cumulative):  46.5%   Test:  57.8% \n",
            "Iteration:3740 || Cross Entropy loss- Train: 0.676 Test: 0.970 || Batch Score- Train:   6.2% Test:   0.0% || Cumulative Score   1.7% || Character_accuracy - Train(cumulative):  46.5%   Test:  56.1% \n",
            "Iteration:3760 || Cross Entropy loss- Train: 0.836 Test: 0.845 || Batch Score- Train:   6.2% Test:  12.5% || Cumulative Score   1.8% || Character_accuracy - Train(cumulative):  46.6%   Test:  60.1% \n",
            "Iteration:3780 || Cross Entropy loss- Train: 1.025 Test: 0.827 || Batch Score- Train:   6.2% Test:   0.0% || Cumulative Score   1.8% || Character_accuracy - Train(cumulative):  46.6%   Test:  58.0% \n",
            "Iteration:3800 || Cross Entropy loss- Train: 0.839 Test: 0.949 || Batch Score- Train:   0.0% Test:   0.0% || Cumulative Score   1.8% || Character_accuracy - Train(cumulative):  46.7%   Test:  56.0% \n",
            "Iteration:3820 || Cross Entropy loss- Train: 0.888 Test: 0.757 || Batch Score- Train:  18.8% Test:  12.5% || Cumulative Score   1.8% || Character_accuracy - Train(cumulative):  46.8%   Test:  62.5% \n",
            "Iteration:3840 || Cross Entropy loss- Train: 0.941 Test: 0.821 || Batch Score- Train:   0.0% Test:   6.2% || Cumulative Score   1.9% || Character_accuracy - Train(cumulative):  46.8%   Test:  62.5% \n",
            "Iteration:3860 || Cross Entropy loss- Train: 0.846 Test: 0.721 || Batch Score- Train:   6.2% Test:   6.2% || Cumulative Score   1.9% || Character_accuracy - Train(cumulative):  46.9%   Test:  62.0% \n",
            "Iteration:3880 || Cross Entropy loss- Train: 0.911 Test: 0.934 || Batch Score- Train:   6.2% Test:   0.0% || Cumulative Score   1.9% || Character_accuracy - Train(cumulative):  46.9%   Test:  57.2% \n",
            "Iteration:3900 || Cross Entropy loss- Train: 0.665 Test: 0.791 || Batch Score- Train:  12.5% Test:   0.0% || Cumulative Score   1.9% || Character_accuracy - Train(cumulative):  47.0%   Test:  59.4% \n",
            "Iteration:3920 || Cross Entropy loss- Train: 0.818 Test: 0.749 || Batch Score- Train:  18.8% Test:   6.2% || Cumulative Score   2.0% || Character_accuracy - Train(cumulative):  47.1%   Test:  62.3% \n",
            "Iteration:3940 || Cross Entropy loss- Train: 0.746 Test: 0.806 || Batch Score- Train:   6.2% Test:   6.2% || Cumulative Score   2.0% || Character_accuracy - Train(cumulative):  47.1%   Test:  56.7% \n",
            "Iteration:3960 || Cross Entropy loss- Train: 0.808 Test: 0.822 || Batch Score- Train:   0.0% Test:   0.0% || Cumulative Score   2.0% || Character_accuracy - Train(cumulative):  47.2%   Test:  58.4% \n",
            "Iteration:3980 || Cross Entropy loss- Train: 0.967 Test: 0.851 || Batch Score- Train:   6.2% Test:   6.2% || Cumulative Score   2.0% || Character_accuracy - Train(cumulative):  47.3%   Test:  60.5% \n",
            "Iteration:4000 || Cross Entropy loss- Train: 0.803 Test: 0.905 || Batch Score- Train:   0.0% Test:   6.2% || Cumulative Score   2.0% || Character_accuracy - Train(cumulative):  47.3%   Test:  56.4% \n",
            "Iteration:4020 || Cross Entropy loss- Train: 0.948 Test: 0.856 || Batch Score- Train:   6.2% Test:   6.2% || Cumulative Score   2.1% || Character_accuracy - Train(cumulative):  47.4%   Test:  58.5% \n",
            "Iteration:4040 || Cross Entropy loss- Train: 0.874 Test: 0.918 || Batch Score- Train:   0.0% Test:   6.2% || Cumulative Score   2.1% || Character_accuracy - Train(cumulative):  47.4%   Test:  60.6% \n",
            "Iteration:4060 || Cross Entropy loss- Train: 0.877 Test: 0.748 || Batch Score- Train:  12.5% Test:   0.0% || Cumulative Score   2.1% || Character_accuracy - Train(cumulative):  47.5%   Test:  59.1% \n",
            "Iteration:4080 || Cross Entropy loss- Train: 0.845 Test: 1.012 || Batch Score- Train:   6.2% Test:   0.0% || Cumulative Score   2.1% || Character_accuracy - Train(cumulative):  47.5%   Test:  54.0% \n",
            "Iteration:4100 || Cross Entropy loss- Train: 0.737 Test: 0.827 || Batch Score- Train:  12.5% Test:   0.0% || Cumulative Score   2.1% || Character_accuracy - Train(cumulative):  47.6%   Test:  60.7% \n",
            "Iteration:4120 || Cross Entropy loss- Train: 0.812 Test: 0.724 || Batch Score- Train:   6.2% Test:   6.2% || Cumulative Score   2.2% || Character_accuracy - Train(cumulative):  47.6%   Test:  60.2% \n",
            "Iteration:4140 || Cross Entropy loss- Train: 0.738 Test: 0.838 || Batch Score- Train:  12.5% Test:  18.8% || Cumulative Score   2.2% || Character_accuracy - Train(cumulative):  47.7%   Test:  61.7% \n",
            "Iteration:4160 || Cross Entropy loss- Train: 0.782 Test: 0.721 || Batch Score- Train:  12.5% Test:   6.2% || Cumulative Score   2.2% || Character_accuracy - Train(cumulative):  47.8%   Test:  63.2% \n",
            "Iteration:4180 || Cross Entropy loss- Train: 0.888 Test: 0.964 || Batch Score- Train:   6.2% Test:   0.0% || Cumulative Score   2.2% || Character_accuracy - Train(cumulative):  47.8%   Test:  57.7% \n",
            "Iteration:4200 || Cross Entropy loss- Train: 0.842 Test: 0.815 || Batch Score- Train:   6.2% Test:   0.0% || Cumulative Score   2.2% || Character_accuracy - Train(cumulative):  47.9%   Test:  62.2% \n",
            "Iteration:4220 || Cross Entropy loss- Train: 0.865 Test: 0.874 || Batch Score- Train:   6.2% Test:   6.2% || Cumulative Score   2.3% || Character_accuracy - Train(cumulative):  47.9%   Test:  58.7% \n",
            "Iteration:4240 || Cross Entropy loss- Train: 0.899 Test: 0.905 || Batch Score- Train:   6.2% Test:   6.2% || Cumulative Score   2.3% || Character_accuracy - Train(cumulative):  48.0%   Test:  60.2% \n",
            "Iteration:4260 || Cross Entropy loss- Train: 0.723 Test: 0.935 || Batch Score- Train:  18.8% Test:   6.2% || Cumulative Score   2.3% || Character_accuracy - Train(cumulative):  48.0%   Test:  55.2% \n",
            "Iteration:4280 || Cross Entropy loss- Train: 0.903 Test: 0.770 || Batch Score- Train:  12.5% Test:   6.2% || Cumulative Score   2.4% || Character_accuracy - Train(cumulative):  48.1%   Test:  64.6% \n",
            "Iteration:4300 || Cross Entropy loss- Train: 0.903 Test: 0.897 || Batch Score- Train:   0.0% Test:  12.5% || Cumulative Score   2.4% || Character_accuracy - Train(cumulative):  48.2%   Test:  62.1% \n",
            "Iteration:4320 || Cross Entropy loss- Train: 0.671 Test: 0.652 || Batch Score- Train:  12.5% Test:  18.8% || Cumulative Score   2.4% || Character_accuracy - Train(cumulative):  48.2%   Test:  64.9% \n",
            "Iteration:4340 || Cross Entropy loss- Train: 0.904 Test: 0.900 || Batch Score- Train:   0.0% Test:   0.0% || Cumulative Score   2.4% || Character_accuracy - Train(cumulative):  48.3%   Test:  55.9% \n",
            "Iteration:4360 || Cross Entropy loss- Train: 0.880 Test: 0.835 || Batch Score- Train:   6.2% Test:   6.2% || Cumulative Score   2.4% || Character_accuracy - Train(cumulative):  48.3%   Test:  59.2% \n",
            "Iteration:4380 || Cross Entropy loss- Train: 0.779 Test: 0.789 || Batch Score- Train:  12.5% Test:   6.2% || Cumulative Score   2.4% || Character_accuracy - Train(cumulative):  48.4%   Test:  61.6% \n",
            "Iteration:4400 || Cross Entropy loss- Train: 0.741 Test: 0.829 || Batch Score- Train:  25.0% Test:  12.5% || Cumulative Score   2.5% || Character_accuracy - Train(cumulative):  48.4%   Test:  60.3% \n",
            "Iteration:4420 || Cross Entropy loss- Train: 0.798 Test: 0.958 || Batch Score- Train:  12.5% Test:   6.2% || Cumulative Score   2.5% || Character_accuracy - Train(cumulative):  48.5%   Test:  57.8% \n",
            "Iteration:4440 || Cross Entropy loss- Train: 0.859 Test: 0.753 || Batch Score- Train:   6.2% Test:   6.2% || Cumulative Score   2.5% || Character_accuracy - Train(cumulative):  48.5%   Test:  61.6% \n",
            "Iteration:4460 || Cross Entropy loss- Train: 0.727 Test: 0.791 || Batch Score- Train:  12.5% Test:  12.5% || Cumulative Score   2.6% || Character_accuracy - Train(cumulative):  48.6%   Test:  60.4% \n",
            "Iteration:4480 || Cross Entropy loss- Train: 0.894 Test: 0.785 || Batch Score- Train:  12.5% Test:   6.2% || Cumulative Score   2.6% || Character_accuracy - Train(cumulative):  48.6%   Test:  59.9% \n",
            "Iteration:4500 || Cross Entropy loss- Train: 0.907 Test: 0.794 || Batch Score- Train:   0.0% Test:   0.0% || Cumulative Score   2.6% || Character_accuracy - Train(cumulative):  48.7%   Test:  61.1% \n",
            "Iteration:4520 || Cross Entropy loss- Train: 0.901 Test: 0.892 || Batch Score- Train:   6.2% Test:   6.2% || Cumulative Score   2.6% || Character_accuracy - Train(cumulative):  48.7%   Test:  59.2% \n",
            "Iteration:4540 || Cross Entropy loss- Train: 0.939 Test: 0.727 || Batch Score- Train:  18.8% Test:   6.2% || Cumulative Score   2.7% || Character_accuracy - Train(cumulative):  48.8%   Test:  63.8% \n",
            "Iteration:4560 || Cross Entropy loss- Train: 0.968 Test: 0.656 || Batch Score- Train:  12.5% Test:   6.2% || Cumulative Score   2.7% || Character_accuracy - Train(cumulative):  48.8%   Test:  66.2% \n",
            "Iteration:4580 || Cross Entropy loss- Train: 0.638 Test: 0.843 || Batch Score- Train:   6.2% Test:   6.2% || Cumulative Score   2.7% || Character_accuracy - Train(cumulative):  48.9%   Test:  59.2% \n",
            "Iteration:4600 || Cross Entropy loss- Train: 0.772 Test: 0.920 || Batch Score- Train:   0.0% Test:  12.5% || Cumulative Score   2.7% || Character_accuracy - Train(cumulative):  48.9%   Test:  57.2% \n",
            "Iteration:4620 || Cross Entropy loss- Train: 0.885 Test: 0.987 || Batch Score- Train:   0.0% Test:   0.0% || Cumulative Score   2.7% || Character_accuracy - Train(cumulative):  49.0%   Test:  55.0% \n",
            "Iteration:4640 || Cross Entropy loss- Train: 0.781 Test: 1.004 || Batch Score- Train:   6.2% Test:   0.0% || Cumulative Score   2.8% || Character_accuracy - Train(cumulative):  49.0%   Test:  56.6% \n",
            "Iteration:4660 || Cross Entropy loss- Train: 0.791 Test: 0.695 || Batch Score- Train:  18.8% Test:  18.8% || Cumulative Score   2.8% || Character_accuracy - Train(cumulative):  49.1%   Test:  65.6% \n",
            "Iteration:4680 || Cross Entropy loss- Train: 0.715 Test: 0.703 || Batch Score- Train:  12.5% Test:  12.5% || Cumulative Score   2.8% || Character_accuracy - Train(cumulative):  49.1%   Test:  62.7% \n",
            "Iteration:4700 || Cross Entropy loss- Train: 0.841 Test: 0.803 || Batch Score- Train:   6.2% Test:   6.2% || Cumulative Score   2.8% || Character_accuracy - Train(cumulative):  49.2%   Test:  61.2% \n",
            "Iteration:4720 || Cross Entropy loss- Train: 0.873 Test: 0.731 || Batch Score- Train:   6.2% Test:  12.5% || Cumulative Score   2.9% || Character_accuracy - Train(cumulative):  49.2%   Test:  66.3% \n",
            "Iteration:4740 || Cross Entropy loss- Train: 0.816 Test: 0.769 || Batch Score- Train:  12.5% Test:   6.2% || Cumulative Score   2.9% || Character_accuracy - Train(cumulative):  49.3%   Test:  61.5% \n",
            "Iteration:4760 || Cross Entropy loss- Train: 0.857 Test: 0.922 || Batch Score- Train:   0.0% Test:   6.2% || Cumulative Score   2.9% || Character_accuracy - Train(cumulative):  49.3%   Test:  59.0% \n",
            "Iteration:4780 || Cross Entropy loss- Train: 0.793 Test: 0.867 || Batch Score- Train:   0.0% Test:   6.2% || Cumulative Score   2.9% || Character_accuracy - Train(cumulative):  49.4%   Test:  57.4% \n",
            "Iteration:4800 || Cross Entropy loss- Train: 0.718 Test: 0.741 || Batch Score- Train:  12.5% Test:  12.5% || Cumulative Score   2.9% || Character_accuracy - Train(cumulative):  49.4%   Test:  63.3% \n",
            "Iteration:4820 || Cross Entropy loss- Train: 0.730 Test: 0.731 || Batch Score- Train:  12.5% Test:  18.8% || Cumulative Score   3.0% || Character_accuracy - Train(cumulative):  49.5%   Test:  60.7% \n",
            "Iteration:4840 || Cross Entropy loss- Train: 0.621 Test: 0.777 || Batch Score- Train:  18.8% Test:   0.0% || Cumulative Score   3.0% || Character_accuracy - Train(cumulative):  49.5%   Test:  63.4% \n",
            "Iteration:4860 || Cross Entropy loss- Train: 0.891 Test: 0.654 || Batch Score- Train:   6.2% Test:   6.2% || Cumulative Score   3.0% || Character_accuracy - Train(cumulative):  49.6%   Test:  63.9% \n",
            "Iteration:4880 || Cross Entropy loss- Train: 0.885 Test: 0.875 || Batch Score- Train:   0.0% Test:  12.5% || Cumulative Score   3.1% || Character_accuracy - Train(cumulative):  49.6%   Test:  62.0% \n",
            "Iteration:4900 || Cross Entropy loss- Train: 0.805 Test: 0.709 || Batch Score- Train:   6.2% Test:  12.5% || Cumulative Score   3.1% || Character_accuracy - Train(cumulative):  49.7%   Test:  62.2% \n",
            "Iteration:4920 || Cross Entropy loss- Train: 0.680 Test: 0.773 || Batch Score- Train:  37.5% Test:   6.2% || Cumulative Score   3.1% || Character_accuracy - Train(cumulative):  49.7%   Test:  59.1% \n",
            "Iteration:4940 || Cross Entropy loss- Train: 0.795 Test: 0.811 || Batch Score- Train:   6.2% Test:   6.2% || Cumulative Score   3.1% || Character_accuracy - Train(cumulative):  49.8%   Test:  62.2% \n",
            "Iteration:4960 || Cross Entropy loss- Train: 0.918 Test: 0.879 || Batch Score- Train:   6.2% Test:   6.2% || Cumulative Score   3.1% || Character_accuracy - Train(cumulative):  49.8%   Test:  60.5% \n",
            "Iteration:4980 || Cross Entropy loss- Train: 0.764 Test: 0.805 || Batch Score- Train:   0.0% Test:  12.5% || Cumulative Score   3.2% || Character_accuracy - Train(cumulative):  49.9%   Test:  62.9% \n",
            " 10%|█         | 1/10 [15:44<21:59, 146.63s/it, best loss: -0.32717342533398797]\n"
          ],
          "name": "stdout"
        },
        {
          "output_type": "error",
          "ename": "TypeError",
          "evalue": "ignored",
          "traceback": [
            "\u001b[0;31m---------------------------------------------------------------------------\u001b[0m",
            "\u001b[0;31mTypeError\u001b[0m                                 Traceback (most recent call last)",
            "\u001b[0;32m<ipython-input-67-47ba97fe39dc>\u001b[0m in \u001b[0;36m<module>\u001b[0;34m()\u001b[0m\n\u001b[0;32m----> 1\u001b[0;31m \u001b[0mbest_param\u001b[0m \u001b[0;34m=\u001b[0m \u001b[0mhyperopt\u001b[0m\u001b[0;34m(\u001b[0m\u001b[0mparam_hyperopt\u001b[0m\u001b[0;34m,\u001b[0m\u001b[0;36m10\u001b[0m\u001b[0;34m)\u001b[0m\u001b[0;34m\u001b[0m\u001b[0;34m\u001b[0m\u001b[0m\n\u001b[0m",
            "\u001b[0;32m<ipython-input-66-631ae1ab2561>\u001b[0m in \u001b[0;36mhyperopt\u001b[0;34m(param_space, num_eval)\u001b[0m\n\u001b[1;32m     25\u001b[0m                       \u001b[0mmax_evals\u001b[0m\u001b[0;34m=\u001b[0m\u001b[0mnum_eval\u001b[0m\u001b[0;34m,\u001b[0m\u001b[0;34m\u001b[0m\u001b[0;34m\u001b[0m\u001b[0m\n\u001b[1;32m     26\u001b[0m                       \u001b[0mtrials\u001b[0m\u001b[0;34m=\u001b[0m\u001b[0mtrials\u001b[0m\u001b[0;34m,\u001b[0m\u001b[0;34m\u001b[0m\u001b[0;34m\u001b[0m\u001b[0m\n\u001b[0;32m---> 27\u001b[0;31m                       rstate= np.random.RandomState(1))\n\u001b[0m\u001b[1;32m     28\u001b[0m \u001b[0;34m\u001b[0m\u001b[0m\n\u001b[1;32m     29\u001b[0m     \u001b[0mloss\u001b[0m \u001b[0;34m=\u001b[0m \u001b[0;34m[\u001b[0m\u001b[0mx\u001b[0m\u001b[0;34m[\u001b[0m\u001b[0;34m'result'\u001b[0m\u001b[0;34m]\u001b[0m\u001b[0;34m[\u001b[0m\u001b[0;34m'loss'\u001b[0m\u001b[0;34m]\u001b[0m \u001b[0;32mfor\u001b[0m \u001b[0mx\u001b[0m \u001b[0;32min\u001b[0m \u001b[0mtrials\u001b[0m\u001b[0;34m.\u001b[0m\u001b[0mtrials\u001b[0m\u001b[0;34m]\u001b[0m\u001b[0;34m\u001b[0m\u001b[0;34m\u001b[0m\u001b[0m\n",
            "\u001b[0;32m/usr/local/lib/python3.6/dist-packages/hyperopt/fmin.py\u001b[0m in \u001b[0;36mfmin\u001b[0;34m(fn, space, algo, max_evals, trials, rstate, allow_trials_fmin, pass_expr_memo_ctrl, catch_eval_exceptions, verbose, return_argmin, points_to_evaluate, max_queue_len, show_progressbar)\u001b[0m\n\u001b[1;32m    386\u001b[0m             \u001b[0mcatch_eval_exceptions\u001b[0m\u001b[0;34m=\u001b[0m\u001b[0mcatch_eval_exceptions\u001b[0m\u001b[0;34m,\u001b[0m\u001b[0;34m\u001b[0m\u001b[0;34m\u001b[0m\u001b[0m\n\u001b[1;32m    387\u001b[0m             \u001b[0mreturn_argmin\u001b[0m\u001b[0;34m=\u001b[0m\u001b[0mreturn_argmin\u001b[0m\u001b[0;34m,\u001b[0m\u001b[0;34m\u001b[0m\u001b[0;34m\u001b[0m\u001b[0m\n\u001b[0;32m--> 388\u001b[0;31m             \u001b[0mshow_progressbar\u001b[0m\u001b[0;34m=\u001b[0m\u001b[0mshow_progressbar\u001b[0m\u001b[0;34m,\u001b[0m\u001b[0;34m\u001b[0m\u001b[0;34m\u001b[0m\u001b[0m\n\u001b[0m\u001b[1;32m    389\u001b[0m         )\n\u001b[1;32m    390\u001b[0m \u001b[0;34m\u001b[0m\u001b[0m\n",
            "\u001b[0;32m/usr/local/lib/python3.6/dist-packages/hyperopt/base.py\u001b[0m in \u001b[0;36mfmin\u001b[0;34m(self, fn, space, algo, max_evals, rstate, verbose, pass_expr_memo_ctrl, catch_eval_exceptions, return_argmin, show_progressbar)\u001b[0m\n\u001b[1;32m    637\u001b[0m             \u001b[0mcatch_eval_exceptions\u001b[0m\u001b[0;34m=\u001b[0m\u001b[0mcatch_eval_exceptions\u001b[0m\u001b[0;34m,\u001b[0m\u001b[0;34m\u001b[0m\u001b[0;34m\u001b[0m\u001b[0m\n\u001b[1;32m    638\u001b[0m             \u001b[0mreturn_argmin\u001b[0m\u001b[0;34m=\u001b[0m\u001b[0mreturn_argmin\u001b[0m\u001b[0;34m,\u001b[0m\u001b[0;34m\u001b[0m\u001b[0;34m\u001b[0m\u001b[0m\n\u001b[0;32m--> 639\u001b[0;31m             show_progressbar=show_progressbar)\n\u001b[0m\u001b[1;32m    640\u001b[0m \u001b[0;34m\u001b[0m\u001b[0m\n\u001b[1;32m    641\u001b[0m \u001b[0;34m\u001b[0m\u001b[0m\n",
            "\u001b[0;32m/usr/local/lib/python3.6/dist-packages/hyperopt/fmin.py\u001b[0m in \u001b[0;36mfmin\u001b[0;34m(fn, space, algo, max_evals, trials, rstate, allow_trials_fmin, pass_expr_memo_ctrl, catch_eval_exceptions, verbose, return_argmin, points_to_evaluate, max_queue_len, show_progressbar)\u001b[0m\n\u001b[1;32m    405\u001b[0m                     show_progressbar=show_progressbar)\n\u001b[1;32m    406\u001b[0m     \u001b[0mrval\u001b[0m\u001b[0;34m.\u001b[0m\u001b[0mcatch_eval_exceptions\u001b[0m \u001b[0;34m=\u001b[0m \u001b[0mcatch_eval_exceptions\u001b[0m\u001b[0;34m\u001b[0m\u001b[0;34m\u001b[0m\u001b[0m\n\u001b[0;32m--> 407\u001b[0;31m     \u001b[0mrval\u001b[0m\u001b[0;34m.\u001b[0m\u001b[0mexhaust\u001b[0m\u001b[0;34m(\u001b[0m\u001b[0;34m)\u001b[0m\u001b[0;34m\u001b[0m\u001b[0;34m\u001b[0m\u001b[0m\n\u001b[0m\u001b[1;32m    408\u001b[0m     \u001b[0;32mif\u001b[0m \u001b[0mreturn_argmin\u001b[0m\u001b[0;34m:\u001b[0m\u001b[0;34m\u001b[0m\u001b[0;34m\u001b[0m\u001b[0m\n\u001b[1;32m    409\u001b[0m         \u001b[0;32mreturn\u001b[0m \u001b[0mtrials\u001b[0m\u001b[0;34m.\u001b[0m\u001b[0margmin\u001b[0m\u001b[0;34m\u001b[0m\u001b[0;34m\u001b[0m\u001b[0m\n",
            "\u001b[0;32m/usr/local/lib/python3.6/dist-packages/hyperopt/fmin.py\u001b[0m in \u001b[0;36mexhaust\u001b[0;34m(self)\u001b[0m\n\u001b[1;32m    260\u001b[0m     \u001b[0;32mdef\u001b[0m \u001b[0mexhaust\u001b[0m\u001b[0;34m(\u001b[0m\u001b[0mself\u001b[0m\u001b[0;34m)\u001b[0m\u001b[0;34m:\u001b[0m\u001b[0;34m\u001b[0m\u001b[0;34m\u001b[0m\u001b[0m\n\u001b[1;32m    261\u001b[0m         \u001b[0mn_done\u001b[0m \u001b[0;34m=\u001b[0m \u001b[0mlen\u001b[0m\u001b[0;34m(\u001b[0m\u001b[0mself\u001b[0m\u001b[0;34m.\u001b[0m\u001b[0mtrials\u001b[0m\u001b[0;34m)\u001b[0m\u001b[0;34m\u001b[0m\u001b[0;34m\u001b[0m\u001b[0m\n\u001b[0;32m--> 262\u001b[0;31m         \u001b[0mself\u001b[0m\u001b[0;34m.\u001b[0m\u001b[0mrun\u001b[0m\u001b[0;34m(\u001b[0m\u001b[0mself\u001b[0m\u001b[0;34m.\u001b[0m\u001b[0mmax_evals\u001b[0m \u001b[0;34m-\u001b[0m \u001b[0mn_done\u001b[0m\u001b[0;34m,\u001b[0m \u001b[0mblock_until_done\u001b[0m\u001b[0;34m=\u001b[0m\u001b[0mself\u001b[0m\u001b[0;34m.\u001b[0m\u001b[0masynchronous\u001b[0m\u001b[0;34m)\u001b[0m\u001b[0;34m\u001b[0m\u001b[0;34m\u001b[0m\u001b[0m\n\u001b[0m\u001b[1;32m    263\u001b[0m         \u001b[0mself\u001b[0m\u001b[0;34m.\u001b[0m\u001b[0mtrials\u001b[0m\u001b[0;34m.\u001b[0m\u001b[0mrefresh\u001b[0m\u001b[0;34m(\u001b[0m\u001b[0;34m)\u001b[0m\u001b[0;34m\u001b[0m\u001b[0;34m\u001b[0m\u001b[0m\n\u001b[1;32m    264\u001b[0m         \u001b[0;32mreturn\u001b[0m \u001b[0mself\u001b[0m\u001b[0;34m\u001b[0m\u001b[0;34m\u001b[0m\u001b[0m\n",
            "\u001b[0;32m/usr/local/lib/python3.6/dist-packages/hyperopt/fmin.py\u001b[0m in \u001b[0;36mrun\u001b[0;34m(self, N, block_until_done)\u001b[0m\n\u001b[1;32m    225\u001b[0m                     \u001b[0;32melse\u001b[0m\u001b[0;34m:\u001b[0m\u001b[0;34m\u001b[0m\u001b[0;34m\u001b[0m\u001b[0m\n\u001b[1;32m    226\u001b[0m                         \u001b[0;31m# -- loop over trials and do the jobs directly\u001b[0m\u001b[0;34m\u001b[0m\u001b[0;34m\u001b[0m\u001b[0;34m\u001b[0m\u001b[0m\n\u001b[0;32m--> 227\u001b[0;31m                         \u001b[0mself\u001b[0m\u001b[0;34m.\u001b[0m\u001b[0mserial_evaluate\u001b[0m\u001b[0;34m(\u001b[0m\u001b[0;34m)\u001b[0m\u001b[0;34m\u001b[0m\u001b[0;34m\u001b[0m\u001b[0m\n\u001b[0m\u001b[1;32m    228\u001b[0m \u001b[0;34m\u001b[0m\u001b[0m\n\u001b[1;32m    229\u001b[0m                     \u001b[0;32mtry\u001b[0m\u001b[0;34m:\u001b[0m\u001b[0;34m\u001b[0m\u001b[0;34m\u001b[0m\u001b[0m\n",
            "\u001b[0;32m/usr/local/lib/python3.6/dist-packages/hyperopt/fmin.py\u001b[0m in \u001b[0;36mserial_evaluate\u001b[0;34m(self, N)\u001b[0m\n\u001b[1;32m    139\u001b[0m                 \u001b[0mctrl\u001b[0m \u001b[0;34m=\u001b[0m \u001b[0mbase\u001b[0m\u001b[0;34m.\u001b[0m\u001b[0mCtrl\u001b[0m\u001b[0;34m(\u001b[0m\u001b[0mself\u001b[0m\u001b[0;34m.\u001b[0m\u001b[0mtrials\u001b[0m\u001b[0;34m,\u001b[0m \u001b[0mcurrent_trial\u001b[0m\u001b[0;34m=\u001b[0m\u001b[0mtrial\u001b[0m\u001b[0;34m)\u001b[0m\u001b[0;34m\u001b[0m\u001b[0;34m\u001b[0m\u001b[0m\n\u001b[1;32m    140\u001b[0m                 \u001b[0;32mtry\u001b[0m\u001b[0;34m:\u001b[0m\u001b[0;34m\u001b[0m\u001b[0;34m\u001b[0m\u001b[0m\n\u001b[0;32m--> 141\u001b[0;31m                     \u001b[0mresult\u001b[0m \u001b[0;34m=\u001b[0m \u001b[0mself\u001b[0m\u001b[0;34m.\u001b[0m\u001b[0mdomain\u001b[0m\u001b[0;34m.\u001b[0m\u001b[0mevaluate\u001b[0m\u001b[0;34m(\u001b[0m\u001b[0mspec\u001b[0m\u001b[0;34m,\u001b[0m \u001b[0mctrl\u001b[0m\u001b[0;34m)\u001b[0m\u001b[0;34m\u001b[0m\u001b[0;34m\u001b[0m\u001b[0m\n\u001b[0m\u001b[1;32m    142\u001b[0m                 \u001b[0;32mexcept\u001b[0m \u001b[0mException\u001b[0m \u001b[0;32mas\u001b[0m \u001b[0me\u001b[0m\u001b[0;34m:\u001b[0m\u001b[0;34m\u001b[0m\u001b[0;34m\u001b[0m\u001b[0m\n\u001b[1;32m    143\u001b[0m                     \u001b[0mlogger\u001b[0m\u001b[0;34m.\u001b[0m\u001b[0minfo\u001b[0m\u001b[0;34m(\u001b[0m\u001b[0;34m'job exception: %s'\u001b[0m \u001b[0;34m%\u001b[0m \u001b[0mstr\u001b[0m\u001b[0;34m(\u001b[0m\u001b[0me\u001b[0m\u001b[0;34m)\u001b[0m\u001b[0;34m)\u001b[0m\u001b[0;34m\u001b[0m\u001b[0;34m\u001b[0m\u001b[0m\n",
            "\u001b[0;32m/usr/local/lib/python3.6/dist-packages/hyperopt/base.py\u001b[0m in \u001b[0;36mevaluate\u001b[0;34m(self, config, ctrl, attach_attachments)\u001b[0m\n\u001b[1;32m    842\u001b[0m                 \u001b[0mmemo\u001b[0m\u001b[0;34m=\u001b[0m\u001b[0mmemo\u001b[0m\u001b[0;34m,\u001b[0m\u001b[0;34m\u001b[0m\u001b[0;34m\u001b[0m\u001b[0m\n\u001b[1;32m    843\u001b[0m                 print_node_on_error=self.rec_eval_print_node_on_error)\n\u001b[0;32m--> 844\u001b[0;31m             \u001b[0mrval\u001b[0m \u001b[0;34m=\u001b[0m \u001b[0mself\u001b[0m\u001b[0;34m.\u001b[0m\u001b[0mfn\u001b[0m\u001b[0;34m(\u001b[0m\u001b[0mpyll_rval\u001b[0m\u001b[0;34m)\u001b[0m\u001b[0;34m\u001b[0m\u001b[0;34m\u001b[0m\u001b[0m\n\u001b[0m\u001b[1;32m    845\u001b[0m \u001b[0;34m\u001b[0m\u001b[0m\n\u001b[1;32m    846\u001b[0m         \u001b[0;32mif\u001b[0m \u001b[0misinstance\u001b[0m\u001b[0;34m(\u001b[0m\u001b[0mrval\u001b[0m\u001b[0;34m,\u001b[0m \u001b[0;34m(\u001b[0m\u001b[0mfloat\u001b[0m\u001b[0;34m,\u001b[0m \u001b[0mint\u001b[0m\u001b[0;34m,\u001b[0m \u001b[0mnp\u001b[0m\u001b[0;34m.\u001b[0m\u001b[0mnumber\u001b[0m\u001b[0;34m)\u001b[0m\u001b[0;34m)\u001b[0m\u001b[0;34m:\u001b[0m\u001b[0;34m\u001b[0m\u001b[0;34m\u001b[0m\u001b[0m\n",
            "\u001b[0;32m<ipython-input-66-631ae1ab2561>\u001b[0m in \u001b[0;36mobjective_function\u001b[0;34m(params)\u001b[0m\n\u001b[1;32m     17\u001b[0m         \u001b[0mcomment\u001b[0m \u001b[0;34m=\u001b[0m\u001b[0;34m'layers'\u001b[0m\u001b[0;34m+\u001b[0m\u001b[0mstr\u001b[0m\u001b[0;34m(\u001b[0m\u001b[0mn_layers\u001b[0m\u001b[0;34m)\u001b[0m\u001b[0;34m+\u001b[0m\u001b[0;34m'_hiddensize'\u001b[0m\u001b[0;34m+\u001b[0m\u001b[0mstr\u001b[0m\u001b[0;34m(\u001b[0m\u001b[0mhidden_size\u001b[0m\u001b[0;34m)\u001b[0m\u001b[0;34m+\u001b[0m\u001b[0;34m'_batchsize'\u001b[0m\u001b[0;34m+\u001b[0m\u001b[0mstr\u001b[0m\u001b[0;34m(\u001b[0m\u001b[0mbatch_size\u001b[0m\u001b[0;34m)\u001b[0m\u001b[0;34m\u001b[0m\u001b[0;34m\u001b[0m\u001b[0m\n\u001b[1;32m     18\u001b[0m         \u001b[0mhyopt_score\u001b[0m \u001b[0;34m=\u001b[0m \u001b[0mtrain\u001b[0m\u001b[0;34m(\u001b[0m\u001b[0mfinal_model\u001b[0m\u001b[0;34m,\u001b[0m \u001b[0;36m5000\u001b[0m\u001b[0;34m,\u001b[0m \u001b[0mbatch_size\u001b[0m\u001b[0;34m,\u001b[0m\u001b[0mcriterion\u001b[0m\u001b[0;34m,\u001b[0m \u001b[0moptimizer\u001b[0m\u001b[0;34m,\u001b[0m\u001b[0mcomment\u001b[0m\u001b[0;34m)\u001b[0m\u001b[0;34m\u001b[0m\u001b[0;34m\u001b[0m\u001b[0m\n\u001b[0;32m---> 19\u001b[0;31m         \u001b[0;32mreturn\u001b[0m \u001b[0;34m{\u001b[0m\u001b[0;34m'loss'\u001b[0m\u001b[0;34m:\u001b[0m \u001b[0;34m-\u001b[0m\u001b[0mhyopt_score\u001b[0m\u001b[0;34m,\u001b[0m \u001b[0;34m'status'\u001b[0m\u001b[0;34m:\u001b[0m \u001b[0mSTATUS_OK\u001b[0m\u001b[0;34m}\u001b[0m\u001b[0;34m\u001b[0m\u001b[0;34m\u001b[0m\u001b[0m\n\u001b[0m\u001b[1;32m     20\u001b[0m \u001b[0;34m\u001b[0m\u001b[0m\n\u001b[1;32m     21\u001b[0m     \u001b[0mtrials\u001b[0m \u001b[0;34m=\u001b[0m \u001b[0mTrials\u001b[0m\u001b[0;34m(\u001b[0m\u001b[0;34m)\u001b[0m\u001b[0;34m\u001b[0m\u001b[0;34m\u001b[0m\u001b[0m\n",
            "\u001b[0;31mTypeError\u001b[0m: bad operand type for unary -: 'NoneType'"
          ]
        }
      ]
    },
    {
      "cell_type": "code",
      "metadata": {
        "id": "7FJdjNJDUQ_B",
        "colab_type": "code",
        "colab": {}
      },
      "source": [
        ""
      ],
      "execution_count": 0,
      "outputs": []
    }
  ]
}